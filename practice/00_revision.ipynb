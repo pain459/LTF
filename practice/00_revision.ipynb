{
 "cells": [
  {
   "cell_type": "code",
   "execution_count": 2,
   "metadata": {},
   "outputs": [
    {
     "name": "stdout",
     "output_type": "stream",
     "text": [
      "2.16.1\n"
     ]
    }
   ],
   "source": [
    "import tensorflow as tf\n",
    "print(tf.__version__)"
   ]
  },
  {
   "cell_type": "code",
   "execution_count": 14,
   "metadata": {},
   "outputs": [
    {
     "data": {
      "text/plain": [
       "(<tf.Tensor: shape=(1,), dtype=int32, numpy=array([10], dtype=int32)>, 10)"
      ]
     },
     "execution_count": 14,
     "metadata": {},
     "output_type": "execute_result"
    }
   ],
   "source": [
    "# Creating a scalar\n",
    "scalar_1 = tf.constant([10])\n",
    "scalar_1, scalar_1.numpy()[0]"
   ]
  },
  {
   "cell_type": "code",
   "execution_count": 15,
   "metadata": {},
   "outputs": [
    {
     "data": {
      "text/plain": [
       "(<tf.Tensor: shape=(), dtype=int32, numpy=10>, 10)"
      ]
     },
     "execution_count": 15,
     "metadata": {},
     "output_type": "execute_result"
    }
   ],
   "source": [
    "scalar_2 = tf.constant(10)\n",
    "scalar_2, scalar_2.numpy()"
   ]
  },
  {
   "cell_type": "code",
   "execution_count": 18,
   "metadata": {},
   "outputs": [
    {
     "data": {
      "text/plain": [
       "(<tf.Tensor: shape=(4,), dtype=int32, numpy=array([1, 2, 3, 4], dtype=int32)>,\n",
       " array([1, 2, 3, 4], dtype=int32))"
      ]
     },
     "execution_count": 18,
     "metadata": {},
     "output_type": "execute_result"
    }
   ],
   "source": [
    "# Creating scalar with multiple values\n",
    "scalar_3 = tf.constant([1, 2, 3, 4])\n",
    "scalar_3, scalar_3.numpy()"
   ]
  },
  {
   "cell_type": "code",
   "execution_count": 21,
   "metadata": {},
   "outputs": [
    {
     "data": {
      "text/plain": [
       "(<tf.Tensor: shape=(4,), dtype=int32, numpy=array([1, 2, 3, 4], dtype=int32)>,\n",
       " 1,\n",
       " TensorShape([4]))"
      ]
     },
     "execution_count": 21,
     "metadata": {},
     "output_type": "execute_result"
    }
   ],
   "source": [
    "scalar_3, scalar_3.ndim, scalar_3.shape"
   ]
  },
  {
   "cell_type": "code",
   "execution_count": 26,
   "metadata": {},
   "outputs": [
    {
     "data": {
      "text/plain": [
       "[1, 2, 3, 4]"
      ]
     },
     "execution_count": 26,
     "metadata": {},
     "output_type": "execute_result"
    }
   ],
   "source": [
    "values_1 = scalar_3.numpy()\n",
    "values_1_tolist = values_1.tolist()\n",
    "values_1_tolist"
   ]
  },
  {
   "cell_type": "code",
   "execution_count": 16,
   "metadata": {},
   "outputs": [
    {
     "data": {
      "text/plain": [
       "(<tf.Tensor: shape=(2,), dtype=int32, numpy=array([10,  7], dtype=int32)>, 7)"
      ]
     },
     "execution_count": 16,
     "metadata": {},
     "output_type": "execute_result"
    }
   ],
   "source": [
    "# Creating a vector\n",
    "vector_1 = tf.constant([10, 7])\n",
    "vector_1, vector_1.numpy()[1]"
   ]
  },
  {
   "cell_type": "code",
   "execution_count": 17,
   "metadata": {},
   "outputs": [
    {
     "data": {
      "text/plain": [
       "(1, TensorShape([2]), tf.int32)"
      ]
     },
     "execution_count": 17,
     "metadata": {},
     "output_type": "execute_result"
    }
   ],
   "source": [
    "vector_1.ndim, vector_1.shape, vector_1.dtype"
   ]
  },
  {
   "cell_type": "code",
   "execution_count": 28,
   "metadata": {},
   "outputs": [
    {
     "data": {
      "text/plain": [
       "(2, TensorShape([2, 2]))"
      ]
     },
     "execution_count": 28,
     "metadata": {},
     "output_type": "execute_result"
    }
   ],
   "source": [
    "# Create matrix with 2 dimensions\n",
    "matrix_1 = tf.constant([[10, 7],\n",
    "                        [3, 4]])\n",
    "matrix_1.ndim, matrix_1.shape"
   ]
  },
  {
   "cell_type": "code",
   "execution_count": 35,
   "metadata": {},
   "outputs": [
    {
     "data": {
      "text/plain": [
       "(<tf.Tensor: shape=(2,), dtype=int32, numpy=array([10,  7], dtype=int32)>,\n",
       " <tf.Tensor: shape=(2,), dtype=int32, numpy=array([10,  3], dtype=int32)>,\n",
       " <tf.Tensor: shape=(2,), dtype=int32, numpy=array([10,  7], dtype=int32)>,\n",
       " <tf.Tensor: shape=(2,), dtype=int32, numpy=array([3, 4], dtype=int32)>,\n",
       " <tf.Tensor: shape=(2,), dtype=int32, numpy=array([3, 4], dtype=int32)>,\n",
       " <tf.Tensor: shape=(2,), dtype=int32, numpy=array([7, 4], dtype=int32)>)"
      ]
     },
     "execution_count": 35,
     "metadata": {},
     "output_type": "execute_result"
    }
   ],
   "source": [
    "# Extract the value from matrix\n",
    "matrix_1[0], matrix_1[:, 0], matrix_1[0, :], matrix_1[1, :], matrix_1[-1, :], matrix_1[:, -1]"
   ]
  },
  {
   "cell_type": "code",
   "execution_count": 36,
   "metadata": {},
   "outputs": [
    {
     "data": {
      "text/plain": [
       "<tf.Tensor: shape=(1, 3, 2), dtype=int32, numpy=\n",
       "array([[[10,  7],\n",
       "        [ 3,  4],\n",
       "        [ 1,  2]]], dtype=int32)>"
      ]
     },
     "execution_count": 36,
     "metadata": {},
     "output_type": "execute_result"
    }
   ],
   "source": [
    "# Create a matrix with 3 dimensions\n",
    "matrix_2 = tf.constant([[[10, 7],\n",
    "                         [3, 4],\n",
    "                         [1, 2]]])\n",
    "matrix_2"
   ]
  },
  {
   "cell_type": "code",
   "execution_count": 41,
   "metadata": {},
   "outputs": [
    {
     "data": {
      "text/plain": [
       "10"
      ]
     },
     "execution_count": 41,
     "metadata": {},
     "output_type": "execute_result"
    }
   ],
   "source": [
    "# Extract the value from matrix\n",
    "matrix_2[0][0][0].numpy()"
   ]
  },
  {
   "cell_type": "code",
   "execution_count": 42,
   "metadata": {},
   "outputs": [
    {
     "data": {
      "text/plain": [
       "(3,\n",
       " TensorShape([1, 3, 2]),\n",
       " tf.int32,\n",
       " <tf.Tensor: shape=(), dtype=int32, numpy=6>)"
      ]
     },
     "execution_count": 42,
     "metadata": {},
     "output_type": "execute_result"
    }
   ],
   "source": [
    "# Get standard details from given tensor.\n",
    "matrix_2.ndim, matrix_2.shape, matrix_2.dtype, tf.size(matrix_2)"
   ]
  },
  {
   "cell_type": "code",
   "execution_count": 44,
   "metadata": {},
   "outputs": [
    {
     "data": {
      "text/plain": [
       "(<tf.Tensor: shape=(1, 3), dtype=int32, numpy=array([[7, 4, 2]], dtype=int32)>,\n",
       " <tf.Tensor: shape=(1, 3), dtype=int32, numpy=array([[7, 4, 2]], dtype=int32)>)"
      ]
     },
     "execution_count": 44,
     "metadata": {},
     "output_type": "execute_result"
    }
   ],
   "source": [
    "# Access 7, 4, 2 from matrix_2\n",
    "matrix_2[..., -1], matrix_2[:, :, -1]"
   ]
  },
  {
   "cell_type": "code",
   "execution_count": 57,
   "metadata": {},
   "outputs": [
    {
     "data": {
      "text/plain": [
       "(<tf.Tensor: shape=(1, 3, 2), dtype=int32, numpy=\n",
       " array([[[10,  7],\n",
       "         [ 3,  4],\n",
       "         [ 1,  2]]], dtype=int32)>,\n",
       " <tf.Tensor: shape=(3, 2), dtype=int32, numpy=\n",
       " array([[10,  7],\n",
       "        [ 3,  4],\n",
       "        [ 1,  2]], dtype=int32)>,\n",
       " <tf.Tensor: shape=(2,), dtype=int32, numpy=array([10,  7], dtype=int32)>,\n",
       " <tf.Tensor: shape=(), dtype=int32, numpy=10>)"
      ]
     },
     "execution_count": 57,
     "metadata": {},
     "output_type": "execute_result"
    }
   ],
   "source": [
    "# access 10, 2 from matrix_2\n",
    "matrix_2, matrix_2[0], matrix_2[0, 0], matrix_2[0, 0, 0]"
   ]
  },
  {
   "cell_type": "code",
   "execution_count": 66,
   "metadata": {},
   "outputs": [
    {
     "data": {
      "text/plain": [
       "[10, 2]"
      ]
     },
     "execution_count": 66,
     "metadata": {},
     "output_type": "execute_result"
    }
   ],
   "source": [
    "# just 10 and 2\n",
    "sliced_values = [matrix_2[0, 0, 0].numpy(), matrix_2[0][2][1].numpy()]\n",
    "sliced_values"
   ]
  },
  {
   "cell_type": "code",
   "execution_count": 69,
   "metadata": {},
   "outputs": [
    {
     "data": {
      "text/plain": [
       "(<tf.Tensor: shape=(1, 3, 2), dtype=int32, numpy=\n",
       " array([[[10,  7],\n",
       "         [ 3,  4],\n",
       "         [ 1,  2]]], dtype=int32)>,\n",
       " 3)"
      ]
     },
     "execution_count": 69,
     "metadata": {},
     "output_type": "execute_result"
    }
   ],
   "source": [
    "matrix_2, matrix_2.ndim"
   ]
  },
  {
   "cell_type": "markdown",
   "metadata": {},
   "source": [
    "### Random tensors"
   ]
  },
  {
   "cell_type": "code",
   "execution_count": 71,
   "metadata": {},
   "outputs": [
    {
     "data": {
      "text/plain": [
       "<tf.Tensor: shape=(3, 3, 3), dtype=float32, numpy=\n",
       "array([[[ 0.611968  , -1.81176   , -0.6099066 ],\n",
       "        [ 1.7824843 , -0.33350223,  1.3099757 ],\n",
       "        [ 1.8052678 , -0.43611208,  0.62823534]],\n",
       "\n",
       "       [[-0.76246023,  0.89868826, -0.16570942],\n",
       "        [-1.1279867 ,  0.91470957,  0.14470273],\n",
       "        [-2.225525  , -1.4012846 ,  0.34020552]],\n",
       "\n",
       "       [[ 0.46029255,  0.44432598,  1.1544969 ],\n",
       "        [-0.39718553, -0.12799275,  0.05580219],\n",
       "        [ 0.7124869 , -1.9257933 ,  0.72349304]]], dtype=float32)>"
      ]
     },
     "execution_count": 71,
     "metadata": {},
     "output_type": "execute_result"
    }
   ],
   "source": [
    "# Creating random tensors\n",
    "dimensions = [3, 3, 3]\n",
    "rank_3 = tf.random.normal(dimensions)\n",
    "rank_3"
   ]
  },
  {
   "cell_type": "code",
   "execution_count": 78,
   "metadata": {},
   "outputs": [
    {
     "data": {
      "text/plain": [
       "<tf.Tensor: shape=(3, 3, 3), dtype=int32, numpy=\n",
       "array([[[ 6, 10,  5],\n",
       "        [10,  5, 12],\n",
       "        [ 8,  9, 12]],\n",
       "\n",
       "       [[13, 14,  6],\n",
       "        [ 8,  6,  7],\n",
       "        [13,  2,  5]],\n",
       "\n",
       "       [[ 7,  9, 11],\n",
       "        [ 1,  2,  1],\n",
       "        [10,  9,  9]]], dtype=int32)>"
      ]
     },
     "execution_count": 78,
     "metadata": {},
     "output_type": "execute_result"
    }
   ],
   "source": [
    "dimensions = [3, 3, 3]\n",
    "rank_3 = tf.random.uniform(dimensions, maxval=15, dtype=tf.int32)\n",
    "rank_3"
   ]
  },
  {
   "cell_type": "markdown",
   "metadata": {},
   "source": [
    "### Create matplot visualization for tensors"
   ]
  },
  {
   "cell_type": "code",
   "execution_count": 81,
   "metadata": {},
   "outputs": [],
   "source": [
    "# Standard imports\n",
    "\n",
    "import tensorflow as tf\n",
    "import numpy as np\n",
    "import matplotlib.pyplot as plt"
   ]
  },
  {
   "cell_type": "code",
   "execution_count": 82,
   "metadata": {},
   "outputs": [
    {
     "data": {
      "text/plain": [
       "<tf.Tensor: shape=(3, 3, 3), dtype=int32, numpy=\n",
       "array([[[3, 9, 0],\n",
       "        [1, 8, 1],\n",
       "        [1, 7, 9]],\n",
       "\n",
       "       [[4, 8, 5],\n",
       "        [1, 9, 4],\n",
       "        [7, 1, 3]],\n",
       "\n",
       "       [[1, 3, 0],\n",
       "        [9, 7, 5],\n",
       "        [7, 3, 1]]], dtype=int32)>"
      ]
     },
     "execution_count": 82,
     "metadata": {},
     "output_type": "execute_result"
    }
   ],
   "source": [
    "# Create rank 3 tensor\n",
    "dimensions = [3, 3, 3]\n",
    "rank_3 = tf.random.uniform(dimensions, maxval=10, dtype=tf.int32)\n",
    "rank_3"
   ]
  },
  {
   "cell_type": "code",
   "execution_count": 83,
   "metadata": {},
   "outputs": [
    {
     "data": {
      "image/png": "[encoded data removed]",
      "text/plain": [
       "<Figure size 1500x500 with 6 Axes>"
      ]
     },
     "metadata": {},
     "output_type": "display_data"
    }
   ],
   "source": [
    "# Function to plot slices of a 3D tensor\n",
    "def plot_3d_tensor_slices(tensor, axis=0):\n",
    "    # Get the number of slices along the specified axis\n",
    "    num_slices = tensor.shape[axis]\n",
    "    \n",
    "    # Create a figure with subplots\n",
    "    fig, axes = plt.subplots(1, num_slices, figsize=(15, 5))\n",
    "    \n",
    "    # Plot each slice\n",
    "    for i in range(num_slices):\n",
    "        if axis == 0:\n",
    "            slice = tensor[i, :, :]\n",
    "        elif axis == 1:\n",
    "            slice = tensor[:, i, :]\n",
    "        elif axis == 2:\n",
    "            slice = tensor[:, :, i]\n",
    "        else:\n",
    "            raise ValueError(\"Axis must be 0, 1, or 2\")\n",
    "        \n",
    "        ax = axes[i]\n",
    "        cax = ax.matshow(slice, cmap='viridis')\n",
    "        fig.colorbar(cax, ax=ax)\n",
    "        ax.set_title(f'Slice {i}')\n",
    "    \n",
    "    plt.show()\n",
    "\n",
    "# Plot slices along the first axis (0)\n",
    "plot_3d_tensor_slices(rank_3, axis=0)\n"
   ]
  }
 ],
 "metadata": {
  "kernelspec": {
   "display_name": ".venv",
   "language": "python",
   "name": "python3"
  },
  "language_info": {
   "codemirror_mode": {
    "name": "ipython",
    "version": 3
   },
   "file_extension": ".py",
   "mimetype": "text/x-python",
   "name": "python",
   "nbconvert_exporter": "python",
   "pygments_lexer": "ipython3",
   "version": "3.10.12"
  }
 },
 "nbformat": 4,
 "nbformat_minor": 2
}
