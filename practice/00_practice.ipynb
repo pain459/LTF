{
 "cells": [
  {
   "cell_type": "code",
   "execution_count": 2,
   "metadata": {},
   "outputs": [
    {
     "name": "stdout",
     "output_type": "stream",
     "text": [
      "2.16.1\n"
     ]
    }
   ],
   "source": [
    "import tensorflow as tf\n",
    "print(tf.__version__)"
   ]
  },
  {
   "cell_type": "code",
   "execution_count": 4,
   "metadata": {},
   "outputs": [
    {
     "data": {
      "text/plain": [
       "<tf.Tensor: shape=(), dtype=int32, numpy=7>"
      ]
     },
     "execution_count": 4,
     "metadata": {},
     "output_type": "execute_result"
    }
   ],
   "source": [
    "# Createing tensors with tf.constant()\n",
    "scalar = tf.constant(7)\n",
    "scalar"
   ]
  },
  {
   "cell_type": "code",
   "execution_count": 5,
   "metadata": {},
   "outputs": [
    {
     "data": {
      "text/plain": [
       "0"
      ]
     },
     "execution_count": 5,
     "metadata": {},
     "output_type": "execute_result"
    }
   ],
   "source": [
    "# check the number of dimentions of a tensor\n",
    "scalar.ndim"
   ]
  },
  {
   "cell_type": "code",
   "execution_count": 6,
   "metadata": {},
   "outputs": [
    {
     "data": {
      "text/plain": [
       "<tf.Tensor: shape=(2,), dtype=int32, numpy=array([10, 10], dtype=int32)>"
      ]
     },
     "execution_count": 6,
     "metadata": {},
     "output_type": "execute_result"
    }
   ],
   "source": [
    "# Create a vector\n",
    "vector = tf.constant([10, 10])\n",
    "vector"
   ]
  },
  {
   "cell_type": "code",
   "execution_count": 8,
   "metadata": {},
   "outputs": [
    {
     "data": {
      "text/plain": [
       "1"
      ]
     },
     "execution_count": 8,
     "metadata": {},
     "output_type": "execute_result"
    }
   ],
   "source": [
    "# Check the dimension of the vector\n",
    "vector.ndim"
   ]
  },
  {
   "cell_type": "code",
   "execution_count": 10,
   "metadata": {},
   "outputs": [
    {
     "data": {
      "text/plain": [
       "<tf.Tensor: shape=(2, 2), dtype=int32, numpy=\n",
       "array([[10,  7],\n",
       "       [ 7, 10]], dtype=int32)>"
      ]
     },
     "execution_count": 10,
     "metadata": {},
     "output_type": "execute_result"
    }
   ],
   "source": [
    "# Create a matrix (has more than 1 dimension)\n",
    "matrix = tf.constant([[10, 7],\n",
    "                     [7, 10]])\n",
    "matrix"
   ]
  },
  {
   "cell_type": "code",
   "execution_count": 11,
   "metadata": {},
   "outputs": [
    {
     "data": {
      "text/plain": [
       "2"
      ]
     },
     "execution_count": 11,
     "metadata": {},
     "output_type": "execute_result"
    }
   ],
   "source": [
    "# Check the dimension of the matrix\n",
    "matrix.ndim"
   ]
  },
  {
   "cell_type": "code",
   "execution_count": 14,
   "metadata": {},
   "outputs": [],
   "source": [
    "# Create another matrix\n",
    "another_matrix = tf.constant([[10., 7.],\n",
    "                              [3., 2.],\n",
    "                              [8., 9.]], dtype=tf.float16) # Specify the data type with dtype."
   ]
  },
  {
   "cell_type": "code",
   "execution_count": 17,
   "metadata": {},
   "outputs": [
    {
     "data": {
      "text/plain": [
       "<tf.Tensor: shape=(3, 2), dtype=float16, numpy=\n",
       "array([[10.,  7.],\n",
       "       [ 3.,  2.],\n",
       "       [ 8.,  9.]], dtype=float16)>"
      ]
     },
     "execution_count": 17,
     "metadata": {},
     "output_type": "execute_result"
    }
   ],
   "source": [
    "another_matrix"
   ]
  },
  {
   "cell_type": "code",
   "execution_count": 18,
   "metadata": {},
   "outputs": [
    {
     "data": {
      "text/plain": [
       "2"
      ]
     },
     "execution_count": 18,
     "metadata": {},
     "output_type": "execute_result"
    }
   ],
   "source": [
    "another_matrix.ndim"
   ]
  },
  {
   "cell_type": "code",
   "execution_count": 19,
   "metadata": {},
   "outputs": [
    {
     "data": {
      "text/plain": [
       "<tf.Tensor: shape=(3, 2, 3), dtype=int32, numpy=\n",
       "array([[[ 1,  2,  3],\n",
       "        [ 4,  5,  6]],\n",
       "\n",
       "       [[ 7,  8,  9],\n",
       "        [10, 11, 12]],\n",
       "\n",
       "       [[13, 14, 15],\n",
       "        [16, 17, 18]]], dtype=int32)>"
      ]
     },
     "execution_count": 19,
     "metadata": {},
     "output_type": "execute_result"
    }
   ],
   "source": [
    "# Lets create a tensor. A tensor will have 3 dimensions.\n",
    "tensor = tf.constant([[[1, 2, 3],\n",
    "                       [4, 5, 6]],\n",
    "                       [[7, 8, 9],\n",
    "                        [10, 11, 12]],\n",
    "                        [[13, 14, 15],\n",
    "                         [16, 17, 18]]])\n",
    "tensor\n"
   ]
  },
  {
   "cell_type": "code",
   "execution_count": 20,
   "metadata": {},
   "outputs": [
    {
     "data": {
      "text/plain": [
       "3"
      ]
     },
     "execution_count": 20,
     "metadata": {},
     "output_type": "execute_result"
    }
   ],
   "source": [
    "tensor.ndim"
   ]
  },
  {
   "cell_type": "markdown",
   "metadata": {},
   "source": [
    "### Creating tensors with tf.variable"
   ]
  },
  {
   "cell_type": "code",
   "execution_count": 21,
   "metadata": {},
   "outputs": [
    {
     "data": {
      "text/plain": [
       "(<tf.Variable 'Variable:0' shape=(2,) dtype=int32, numpy=array([10,  7], dtype=int32)>,\n",
       " <tf.Tensor: shape=(2,), dtype=int32, numpy=array([10,  7], dtype=int32)>)"
      ]
     },
     "execution_count": 21,
     "metadata": {},
     "output_type": "execute_result"
    }
   ],
   "source": [
    "# Createa a same tensor with with tf.Variable() as above\n",
    "changeable_tensor = tf.Variable([10, 7])\n",
    "unchangeable_tensor = tf.constant([10, 7])\n",
    "changeable_tensor, unchangeable_tensor"
   ]
  },
  {
   "cell_type": "code",
   "execution_count": 23,
   "metadata": {},
   "outputs": [
    {
     "ename": "TypeError",
     "evalue": "'ResourceVariable' object does not support item assignment",
     "output_type": "error",
     "traceback": [
      "\u001b[0;31m---------------------------------------------------------------------------\u001b[0m",
      "\u001b[0;31mTypeError\u001b[0m                                 Traceback (most recent call last)",
      "Cell \u001b[0;32mIn[23], line 3\u001b[0m\n\u001b[1;32m      1\u001b[0m \u001b[38;5;66;03m# Lets try to change one of the element in changeable tensor\u001b[39;00m\n\u001b[1;32m      2\u001b[0m changeable_tensor[\u001b[38;5;241m0\u001b[39m]\n\u001b[0;32m----> 3\u001b[0m \u001b[43mchangeable_tensor\u001b[49m\u001b[43m[\u001b[49m\u001b[38;5;241;43m0\u001b[39;49m\u001b[43m]\u001b[49m \u001b[38;5;241m=\u001b[39m \u001b[38;5;241m7\u001b[39m\n",
      "\u001b[0;31mTypeError\u001b[0m: 'ResourceVariable' object does not support item assignment"
     ]
    }
   ],
   "source": [
    "# Lets try to change one of the element in changeable tensor\n",
    "changeable_tensor[0]\n",
    "changeable_tensor[0] = 7"
   ]
  },
  {
   "cell_type": "code",
   "execution_count": 24,
   "metadata": {},
   "outputs": [
    {
     "data": {
      "text/plain": [
       "<tf.Variable 'UnreadVariable' shape=(2,) dtype=int32, numpy=array([7, 7], dtype=int32)>"
      ]
     },
     "execution_count": 24,
     "metadata": {},
     "output_type": "execute_result"
    }
   ],
   "source": [
    "# Lets try with assign operator\n",
    "changeable_tensor[0].assign(7)"
   ]
  },
  {
   "cell_type": "code",
   "execution_count": 26,
   "metadata": {},
   "outputs": [
    {
     "ename": "AttributeError",
     "evalue": "'tensorflow.python.framework.ops.EagerTensor' object has no attribute 'assign'",
     "output_type": "error",
     "traceback": [
      "\u001b[0;31m---------------------------------------------------------------------------\u001b[0m",
      "\u001b[0;31mAttributeError\u001b[0m                            Traceback (most recent call last)",
      "Cell \u001b[0;32mIn[26], line 3\u001b[0m\n\u001b[1;32m      1\u001b[0m \u001b[38;5;66;03m# Lets try to change our unchangeable tensor\u001b[39;00m\n\u001b[1;32m      2\u001b[0m unchangeable_tensor[\u001b[38;5;241m0\u001b[39m]\n\u001b[0;32m----> 3\u001b[0m \u001b[43munchangeable_tensor\u001b[49m\u001b[43m[\u001b[49m\u001b[38;5;241;43m0\u001b[39;49m\u001b[43m]\u001b[49m\u001b[38;5;241;43m.\u001b[39;49m\u001b[43massign\u001b[49m(\u001b[38;5;241m7\u001b[39m)\n",
      "File \u001b[0;32m~/src_git/LTF/.venv/lib/python3.10/site-packages/tensorflow/python/framework/tensor.py:260\u001b[0m, in \u001b[0;36mTensor.__getattr__\u001b[0;34m(self, name)\u001b[0m\n\u001b[1;32m    252\u001b[0m \u001b[38;5;28;01mif\u001b[39;00m name \u001b[38;5;129;01min\u001b[39;00m {\u001b[38;5;124m\"\u001b[39m\u001b[38;5;124mT\u001b[39m\u001b[38;5;124m\"\u001b[39m, \u001b[38;5;124m\"\u001b[39m\u001b[38;5;124mastype\u001b[39m\u001b[38;5;124m\"\u001b[39m, \u001b[38;5;124m\"\u001b[39m\u001b[38;5;124mravel\u001b[39m\u001b[38;5;124m\"\u001b[39m, \u001b[38;5;124m\"\u001b[39m\u001b[38;5;124mtranspose\u001b[39m\u001b[38;5;124m\"\u001b[39m, \u001b[38;5;124m\"\u001b[39m\u001b[38;5;124mreshape\u001b[39m\u001b[38;5;124m\"\u001b[39m, \u001b[38;5;124m\"\u001b[39m\u001b[38;5;124mclip\u001b[39m\u001b[38;5;124m\"\u001b[39m, \u001b[38;5;124m\"\u001b[39m\u001b[38;5;124msize\u001b[39m\u001b[38;5;124m\"\u001b[39m,\n\u001b[1;32m    253\u001b[0m             \u001b[38;5;124m\"\u001b[39m\u001b[38;5;124mtolist\u001b[39m\u001b[38;5;124m\"\u001b[39m, \u001b[38;5;124m\"\u001b[39m\u001b[38;5;124mdata\u001b[39m\u001b[38;5;124m\"\u001b[39m}:\n\u001b[1;32m    254\u001b[0m   \u001b[38;5;66;03m# TODO(wangpeng): Export the enable_numpy_behavior knob\u001b[39;00m\n\u001b[1;32m    255\u001b[0m   \u001b[38;5;28;01mraise\u001b[39;00m \u001b[38;5;167;01mAttributeError\u001b[39;00m(\n\u001b[1;32m    256\u001b[0m       \u001b[38;5;124mf\u001b[39m\u001b[38;5;124m\"\u001b[39m\u001b[38;5;132;01m{\u001b[39;00m\u001b[38;5;28mtype\u001b[39m(\u001b[38;5;28mself\u001b[39m)\u001b[38;5;241m.\u001b[39m\u001b[38;5;18m__name__\u001b[39m\u001b[38;5;132;01m}\u001b[39;00m\u001b[38;5;124m object has no attribute \u001b[39m\u001b[38;5;124m'\u001b[39m\u001b[38;5;132;01m{\u001b[39;00mname\u001b[38;5;132;01m}\u001b[39;00m\u001b[38;5;124m'\u001b[39m\u001b[38;5;124m. \u001b[39m\u001b[38;5;124m\"\u001b[39m \u001b[38;5;241m+\u001b[39m \u001b[38;5;124m\"\"\"\u001b[39m\n\u001b[1;32m    257\u001b[0m \u001b[38;5;124m    If you are looking for numpy-related methods, please run the following:\u001b[39m\n\u001b[1;32m    258\u001b[0m \u001b[38;5;124m    tf.experimental.numpy.experimental_enable_numpy_behavior()\u001b[39m\n\u001b[1;32m    259\u001b[0m \u001b[38;5;124m  \u001b[39m\u001b[38;5;124m\"\"\"\u001b[39m)\n\u001b[0;32m--> 260\u001b[0m \u001b[38;5;28;43mself\u001b[39;49m\u001b[38;5;241;43m.\u001b[39;49m\u001b[38;5;21;43m__getattribute__\u001b[39;49m\u001b[43m(\u001b[49m\u001b[43mname\u001b[49m\u001b[43m)\u001b[49m\n",
      "\u001b[0;31mAttributeError\u001b[0m: 'tensorflow.python.framework.ops.EagerTensor' object has no attribute 'assign'"
     ]
    }
   ],
   "source": [
    "# Lets try to change our unchangeable tensor\n",
    "unchangeable_tensor[0]\n",
    "unchangeable_tensor[0].assign(7)"
   ]
  },
  {
   "cell_type": "markdown",
   "metadata": {},
   "source": [
    "### Creating random tensors"
   ]
  },
  {
   "cell_type": "code",
   "execution_count": 68,
   "metadata": {},
   "outputs": [
    {
     "ename": "AttributeError",
     "evalue": "type object 'Generator' has no attribute 'set_seed'",
     "output_type": "error",
     "traceback": [
      "\u001b[0;31m---------------------------------------------------------------------------\u001b[0m",
      "\u001b[0;31mAttributeError\u001b[0m                            Traceback (most recent call last)",
      "Cell \u001b[0;32mIn[68], line 2\u001b[0m\n\u001b[1;32m      1\u001b[0m \u001b[38;5;66;03m# Create twwo random (but the same) tensors\u001b[39;00m\n\u001b[0;32m----> 2\u001b[0m random_1 \u001b[38;5;241m=\u001b[39m \u001b[43mtf\u001b[49m\u001b[38;5;241;43m.\u001b[39;49m\u001b[43mrandom\u001b[49m\u001b[38;5;241;43m.\u001b[39;49m\u001b[43mGenerator\u001b[49m\u001b[38;5;241;43m.\u001b[39;49m\u001b[43mset_seed\u001b[49m(\u001b[38;5;241m42\u001b[39m)  \u001b[38;5;66;03m# Set seed for reproducibility. \u001b[39;00m\n\u001b[1;32m      3\u001b[0m random_1 \u001b[38;5;241m=\u001b[39m random_1\u001b[38;5;241m.\u001b[39mnormal(shape\u001b[38;5;241m=\u001b[39m(\u001b[38;5;241m3\u001b[39m, \u001b[38;5;241m2\u001b[39m))\n\u001b[1;32m      4\u001b[0m random_2 \u001b[38;5;241m=\u001b[39m tf\u001b[38;5;241m.\u001b[39mrandom\u001b[38;5;241m.\u001b[39mGenerator\u001b[38;5;241m.\u001b[39mset_seed(\u001b[38;5;241m42\u001b[39m)\n",
      "\u001b[0;31mAttributeError\u001b[0m: type object 'Generator' has no attribute 'set_seed'"
     ]
    }
   ],
   "source": [
    "# Create twwo random (but the same) tensors\n",
    "random_1 = tf.random.set_seed(42)  # Set seed for reproducibility. \n",
    "random_1 = random_1.normal(shape=(3, 2))\n",
    "random_2 = tf.random.set_seed(42)\n",
    "random_2 = random_2.normal(shape=(3, 2))\n",
    "\n",
    "# are they equal?\n",
    "random_1, random_2, random_1 == random_2\n",
    "\n"
   ]
  },
  {
   "cell_type": "markdown",
   "metadata": {},
   "source": [
    "### Shuffle the order of elements in a tensor"
   ]
  },
  {
   "cell_type": "code",
   "execution_count": 45,
   "metadata": {},
   "outputs": [
    {
     "data": {
      "text/plain": [
       "2"
      ]
     },
     "execution_count": 45,
     "metadata": {},
     "output_type": "execute_result"
    }
   ],
   "source": [
    "# Shuffle a tensor (valuable when you want to shuffle your data so inherent order doesn't effect learning)\n",
    "\n",
    "not_shuffled = tf.constant([[10, 7],\n",
    "                            [3, 4],\n",
    "                            [2, 5]])\n",
    "not_shuffled.ndim"
   ]
  },
  {
   "cell_type": "code",
   "execution_count": 46,
   "metadata": {},
   "outputs": [
    {
     "data": {
      "text/plain": [
       "<tf.Tensor: shape=(3, 2), dtype=int32, numpy=\n",
       "array([[10,  7],\n",
       "       [ 3,  4],\n",
       "       [ 2,  5]], dtype=int32)>"
      ]
     },
     "execution_count": 46,
     "metadata": {},
     "output_type": "execute_result"
    }
   ],
   "source": [
    "not_shuffled"
   ]
  },
  {
   "cell_type": "code",
   "execution_count": 67,
   "metadata": {},
   "outputs": [
    {
     "data": {
      "text/plain": [
       "<tf.Tensor: shape=(3, 2), dtype=int32, numpy=\n",
       "array([[10,  7],\n",
       "       [ 3,  4],\n",
       "       [ 2,  5]], dtype=int32)>"
      ]
     },
     "execution_count": 67,
     "metadata": {},
     "output_type": "execute_result"
    }
   ],
   "source": [
    "# Shuffle our non-shuffled tensor\n",
    "tf.random.set_seed(42)  # Global random seed value\n",
    "tf.random.shuffle(not_shuffled, seed=42)"
   ]
  },
  {
   "cell_type": "code",
   "execution_count": 59,
   "metadata": {},
   "outputs": [
    {
     "data": {
      "text/plain": [
       "<tf.Tensor: shape=(3, 2), dtype=int32, numpy=\n",
       "array([[ 3,  4],\n",
       "       [10,  7],\n",
       "       [ 2,  5]], dtype=int32)>"
      ]
     },
     "execution_count": 59,
     "metadata": {},
     "output_type": "execute_result"
    }
   ],
   "source": [
    "tf.random.shuffle(not_shuffled, seed=42)"
   ]
  },
  {
   "cell_type": "markdown",
   "metadata": {},
   "source": [
    "### Other ways to make tensors"
   ]
  },
  {
   "cell_type": "code",
   "execution_count": 3,
   "metadata": {},
   "outputs": [
    {
     "data": {
      "text/plain": [
       "<tf.Tensor: shape=(10, 7), dtype=float32, numpy=\n",
       "array([[1., 1., 1., 1., 1., 1., 1.],\n",
       "       [1., 1., 1., 1., 1., 1., 1.],\n",
       "       [1., 1., 1., 1., 1., 1., 1.],\n",
       "       [1., 1., 1., 1., 1., 1., 1.],\n",
       "       [1., 1., 1., 1., 1., 1., 1.],\n",
       "       [1., 1., 1., 1., 1., 1., 1.],\n",
       "       [1., 1., 1., 1., 1., 1., 1.],\n",
       "       [1., 1., 1., 1., 1., 1., 1.],\n",
       "       [1., 1., 1., 1., 1., 1., 1.],\n",
       "       [1., 1., 1., 1., 1., 1., 1.]], dtype=float32)>"
      ]
     },
     "execution_count": 3,
     "metadata": {},
     "output_type": "execute_result"
    }
   ],
   "source": [
    "import tensorflow as tf\n",
    "tf.ones([10, 7])"
   ]
  },
  {
   "cell_type": "code",
   "execution_count": 5,
   "metadata": {},
   "outputs": [
    {
     "data": {
      "text/plain": [
       "<tf.Tensor: shape=(7, 10), dtype=float32, numpy=\n",
       "array([[0., 0., 0., 0., 0., 0., 0., 0., 0., 0.],\n",
       "       [0., 0., 0., 0., 0., 0., 0., 0., 0., 0.],\n",
       "       [0., 0., 0., 0., 0., 0., 0., 0., 0., 0.],\n",
       "       [0., 0., 0., 0., 0., 0., 0., 0., 0., 0.],\n",
       "       [0., 0., 0., 0., 0., 0., 0., 0., 0., 0.],\n",
       "       [0., 0., 0., 0., 0., 0., 0., 0., 0., 0.],\n",
       "       [0., 0., 0., 0., 0., 0., 0., 0., 0., 0.]], dtype=float32)>"
      ]
     },
     "execution_count": 5,
     "metadata": {},
     "output_type": "execute_result"
    }
   ],
   "source": [
    "# Create a tensort of zeros\n",
    "tf.zeros(shape=(7, 10))"
   ]
  },
  {
   "cell_type": "markdown",
   "metadata": {},
   "source": [
    "### Turn NumPy arrays to tensors\n",
    "\n",
    "The main different between NumPy arrays and TensorFlow tensors is that\n",
    "tensors can be run on a GPU (much faster for numerical computation)"
   ]
  },
  {
   "cell_type": "code",
   "execution_count": 7,
   "metadata": {},
   "outputs": [
    {
     "data": {
      "text/plain": [
       "array([ 1,  2,  3,  4,  5,  6,  7,  8,  9, 10, 11, 12, 13, 14, 15, 16, 17,\n",
       "       18, 19, 20, 21, 22, 23, 24], dtype=int32)"
      ]
     },
     "execution_count": 7,
     "metadata": {},
     "output_type": "execute_result"
    }
   ],
   "source": [
    "# You can also turn NumPy arrays into tensors\n",
    "import numpy as np\n",
    "numpy_A = np.arange(1, 25, dtype=np.int32) # Create a NumPy array between 1 and 25\n",
    "numpy_A\n",
    "\n",
    "# x = tf.constant(some_matrix)  # Capital for matrix or tensor\n",
    "# y = tf.costant(vector)  # Non-capital for vector"
   ]
  },
  {
   "cell_type": "code",
   "execution_count": 9,
   "metadata": {},
   "outputs": [
    {
     "data": {
      "text/plain": [
       "<tf.Tensor: shape=(24,), dtype=int32, numpy=\n",
       "array([ 1,  2,  3,  4,  5,  6,  7,  8,  9, 10, 11, 12, 13, 14, 15, 16, 17,\n",
       "       18, 19, 20, 21, 22, 23, 24], dtype=int32)>"
      ]
     },
     "execution_count": 9,
     "metadata": {},
     "output_type": "execute_result"
    }
   ],
   "source": [
    "# Convert NumPy array to a tensor.\n",
    "A = tf.constant(numpy_A)\n",
    "A"
   ]
  },
  {
   "cell_type": "code",
   "execution_count": 17,
   "metadata": {},
   "outputs": [
    {
     "data": {
      "text/plain": [
       "array([ 1,  2,  3,  4,  5,  6,  7,  8,  9, 10, 11, 12, 13, 14, 15, 16, 17,\n",
       "       18, 19, 20, 21, 22, 23, 24], dtype=int32)"
      ]
     },
     "execution_count": 17,
     "metadata": {},
     "output_type": "execute_result"
    }
   ],
   "source": [
    "# Convert a numpy array into 3 dimension tensor\n",
    "numpy_B = np.arange(1, 25, dtype=np.int32)\n",
    "numpy_B"
   ]
  },
  {
   "cell_type": "code",
   "execution_count": 23,
   "metadata": {},
   "outputs": [
    {
     "data": {
      "text/plain": [
       "<tf.Tensor: shape=(2, 3, 4), dtype=int32, numpy=\n",
       "array([[[ 1,  2,  3,  4],\n",
       "        [ 5,  6,  7,  8],\n",
       "        [ 9, 10, 11, 12]],\n",
       "\n",
       "       [[13, 14, 15, 16],\n",
       "        [17, 18, 19, 20],\n",
       "        [21, 22, 23, 24]]], dtype=int32)>"
      ]
     },
     "execution_count": 23,
     "metadata": {},
     "output_type": "execute_result"
    }
   ],
   "source": [
    "# Creating a 3 dimensional tensor from a numpy array\n",
    "B = tf.constant(numpy_B, shape=(2, 3, 4))\n",
    "B"
   ]
  },
  {
   "cell_type": "code",
   "execution_count": 21,
   "metadata": {},
   "outputs": [
    {
     "data": {
      "text/plain": [
       "3"
      ]
     },
     "execution_count": 21,
     "metadata": {},
     "output_type": "execute_result"
    }
   ],
   "source": [
    "B.ndim"
   ]
  },
  {
   "cell_type": "markdown",
   "metadata": {},
   "source": [
    "### Getting information from tensors"
   ]
  },
  {
   "cell_type": "code",
   "execution_count": 25,
   "metadata": {},
   "outputs": [
    {
     "data": {
      "text/plain": [
       "(array([ 1,  2,  3,  4,  5,  6,  7,  8,  9, 10, 11, 12, 13, 14, 15, 16, 17,\n",
       "        18, 19, 20, 21, 22, 23, 24], dtype=int32),\n",
       " array([   0,    1,    2, ..., 1021, 1022, 1023], dtype=int32))"
      ]
     },
     "execution_count": 25,
     "metadata": {},
     "output_type": "execute_result"
    }
   ],
   "source": [
    "numpy_C = np.arange(1, 25, dtype=np.int32)\n",
    "numpy_D = np.arange(0, 1024, dtype=np.int32)\n",
    "numpy_C, numpy_D"
   ]
  },
  {
   "cell_type": "code",
   "execution_count": 37,
   "metadata": {},
   "outputs": [
    {
     "data": {
      "text/plain": [
       "(<tf.Tensor: shape=(4, 3, 2), dtype=int32, numpy=\n",
       " array([[[ 1,  2],\n",
       "         [ 3,  4],\n",
       "         [ 5,  6]],\n",
       " \n",
       "        [[ 7,  8],\n",
       "         [ 9, 10],\n",
       "         [11, 12]],\n",
       " \n",
       "        [[13, 14],\n",
       "         [15, 16],\n",
       "         [17, 18]],\n",
       " \n",
       "        [[19, 20],\n",
       "         [21, 22],\n",
       "         [23, 24]]], dtype=int32)>,\n",
       " <tf.Tensor: shape=(16, 2, 4, 4, 2), dtype=int32, numpy=\n",
       " array([[[[[   0,    1],\n",
       "           [   2,    3],\n",
       "           [   4,    5],\n",
       "           [   6,    7]],\n",
       " \n",
       "          [[   8,    9],\n",
       "           [  10,   11],\n",
       "           [  12,   13],\n",
       "           [  14,   15]],\n",
       " \n",
       "          [[  16,   17],\n",
       "           [  18,   19],\n",
       "           [  20,   21],\n",
       "           [  22,   23]],\n",
       " \n",
       "          [[  24,   25],\n",
       "           [  26,   27],\n",
       "           [  28,   29],\n",
       "           [  30,   31]]],\n",
       " \n",
       " \n",
       "         [[[  32,   33],\n",
       "           [  34,   35],\n",
       "           [  36,   37],\n",
       "           [  38,   39]],\n",
       " \n",
       "          [[  40,   41],\n",
       "           [  42,   43],\n",
       "           [  44,   45],\n",
       "           [  46,   47]],\n",
       " \n",
       "          [[  48,   49],\n",
       "           [  50,   51],\n",
       "           [  52,   53],\n",
       "           [  54,   55]],\n",
       " \n",
       "          [[  56,   57],\n",
       "           [  58,   59],\n",
       "           [  60,   61],\n",
       "           [  62,   63]]]],\n",
       " \n",
       " \n",
       " \n",
       "        [[[[  64,   65],\n",
       "           [  66,   67],\n",
       "           [  68,   69],\n",
       "           [  70,   71]],\n",
       " \n",
       "          [[  72,   73],\n",
       "           [  74,   75],\n",
       "           [  76,   77],\n",
       "           [  78,   79]],\n",
       " \n",
       "          [[  80,   81],\n",
       "           [  82,   83],\n",
       "           [  84,   85],\n",
       "           [  86,   87]],\n",
       " \n",
       "          [[  88,   89],\n",
       "           [  90,   91],\n",
       "           [  92,   93],\n",
       "           [  94,   95]]],\n",
       " \n",
       " \n",
       "         [[[  96,   97],\n",
       "           [  98,   99],\n",
       "           [ 100,  101],\n",
       "           [ 102,  103]],\n",
       " \n",
       "          [[ 104,  105],\n",
       "           [ 106,  107],\n",
       "           [ 108,  109],\n",
       "           [ 110,  111]],\n",
       " \n",
       "          [[ 112,  113],\n",
       "           [ 114,  115],\n",
       "           [ 116,  117],\n",
       "           [ 118,  119]],\n",
       " \n",
       "          [[ 120,  121],\n",
       "           [ 122,  123],\n",
       "           [ 124,  125],\n",
       "           [ 126,  127]]]],\n",
       " \n",
       " \n",
       " \n",
       "        [[[[ 128,  129],\n",
       "           [ 130,  131],\n",
       "           [ 132,  133],\n",
       "           [ 134,  135]],\n",
       " \n",
       "          [[ 136,  137],\n",
       "           [ 138,  139],\n",
       "           [ 140,  141],\n",
       "           [ 142,  143]],\n",
       " \n",
       "          [[ 144,  145],\n",
       "           [ 146,  147],\n",
       "           [ 148,  149],\n",
       "           [ 150,  151]],\n",
       " \n",
       "          [[ 152,  153],\n",
       "           [ 154,  155],\n",
       "           [ 156,  157],\n",
       "           [ 158,  159]]],\n",
       " \n",
       " \n",
       "         [[[ 160,  161],\n",
       "           [ 162,  163],\n",
       "           [ 164,  165],\n",
       "           [ 166,  167]],\n",
       " \n",
       "          [[ 168,  169],\n",
       "           [ 170,  171],\n",
       "           [ 172,  173],\n",
       "           [ 174,  175]],\n",
       " \n",
       "          [[ 176,  177],\n",
       "           [ 178,  179],\n",
       "           [ 180,  181],\n",
       "           [ 182,  183]],\n",
       " \n",
       "          [[ 184,  185],\n",
       "           [ 186,  187],\n",
       "           [ 188,  189],\n",
       "           [ 190,  191]]]],\n",
       " \n",
       " \n",
       " \n",
       "        ...,\n",
       " \n",
       " \n",
       " \n",
       "        [[[[ 832,  833],\n",
       "           [ 834,  835],\n",
       "           [ 836,  837],\n",
       "           [ 838,  839]],\n",
       " \n",
       "          [[ 840,  841],\n",
       "           [ 842,  843],\n",
       "           [ 844,  845],\n",
       "           [ 846,  847]],\n",
       " \n",
       "          [[ 848,  849],\n",
       "           [ 850,  851],\n",
       "           [ 852,  853],\n",
       "           [ 854,  855]],\n",
       " \n",
       "          [[ 856,  857],\n",
       "           [ 858,  859],\n",
       "           [ 860,  861],\n",
       "           [ 862,  863]]],\n",
       " \n",
       " \n",
       "         [[[ 864,  865],\n",
       "           [ 866,  867],\n",
       "           [ 868,  869],\n",
       "           [ 870,  871]],\n",
       " \n",
       "          [[ 872,  873],\n",
       "           [ 874,  875],\n",
       "           [ 876,  877],\n",
       "           [ 878,  879]],\n",
       " \n",
       "          [[ 880,  881],\n",
       "           [ 882,  883],\n",
       "           [ 884,  885],\n",
       "           [ 886,  887]],\n",
       " \n",
       "          [[ 888,  889],\n",
       "           [ 890,  891],\n",
       "           [ 892,  893],\n",
       "           [ 894,  895]]]],\n",
       " \n",
       " \n",
       " \n",
       "        [[[[ 896,  897],\n",
       "           [ 898,  899],\n",
       "           [ 900,  901],\n",
       "           [ 902,  903]],\n",
       " \n",
       "          [[ 904,  905],\n",
       "           [ 906,  907],\n",
       "           [ 908,  909],\n",
       "           [ 910,  911]],\n",
       " \n",
       "          [[ 912,  913],\n",
       "           [ 914,  915],\n",
       "           [ 916,  917],\n",
       "           [ 918,  919]],\n",
       " \n",
       "          [[ 920,  921],\n",
       "           [ 922,  923],\n",
       "           [ 924,  925],\n",
       "           [ 926,  927]]],\n",
       " \n",
       " \n",
       "         [[[ 928,  929],\n",
       "           [ 930,  931],\n",
       "           [ 932,  933],\n",
       "           [ 934,  935]],\n",
       " \n",
       "          [[ 936,  937],\n",
       "           [ 938,  939],\n",
       "           [ 940,  941],\n",
       "           [ 942,  943]],\n",
       " \n",
       "          [[ 944,  945],\n",
       "           [ 946,  947],\n",
       "           [ 948,  949],\n",
       "           [ 950,  951]],\n",
       " \n",
       "          [[ 952,  953],\n",
       "           [ 954,  955],\n",
       "           [ 956,  957],\n",
       "           [ 958,  959]]]],\n",
       " \n",
       " \n",
       " \n",
       "        [[[[ 960,  961],\n",
       "           [ 962,  963],\n",
       "           [ 964,  965],\n",
       "           [ 966,  967]],\n",
       " \n",
       "          [[ 968,  969],\n",
       "           [ 970,  971],\n",
       "           [ 972,  973],\n",
       "           [ 974,  975]],\n",
       " \n",
       "          [[ 976,  977],\n",
       "           [ 978,  979],\n",
       "           [ 980,  981],\n",
       "           [ 982,  983]],\n",
       " \n",
       "          [[ 984,  985],\n",
       "           [ 986,  987],\n",
       "           [ 988,  989],\n",
       "           [ 990,  991]]],\n",
       " \n",
       " \n",
       "         [[[ 992,  993],\n",
       "           [ 994,  995],\n",
       "           [ 996,  997],\n",
       "           [ 998,  999]],\n",
       " \n",
       "          [[1000, 1001],\n",
       "           [1002, 1003],\n",
       "           [1004, 1005],\n",
       "           [1006, 1007]],\n",
       " \n",
       "          [[1008, 1009],\n",
       "           [1010, 1011],\n",
       "           [1012, 1013],\n",
       "           [1014, 1015]],\n",
       " \n",
       "          [[1016, 1017],\n",
       "           [1018, 1019],\n",
       "           [1020, 1021],\n",
       "           [1022, 1023]]]]], dtype=int32)>)"
      ]
     },
     "execution_count": 37,
     "metadata": {},
     "output_type": "execute_result"
    }
   ],
   "source": [
    "C = tf.constant(numpy_C, shape=(4, 3, 2))\n",
    "D = tf.constant(numpy_D, shape=(16, 2, 4, 4, 2))\n",
    "C, D"
   ]
  },
  {
   "cell_type": "code",
   "execution_count": 38,
   "metadata": {},
   "outputs": [
    {
     "data": {
      "text/plain": [
       "(3, 5)"
      ]
     },
     "execution_count": 38,
     "metadata": {},
     "output_type": "execute_result"
    }
   ],
   "source": [
    "C.ndim, D.ndim"
   ]
  },
  {
   "cell_type": "code",
   "execution_count": null,
   "metadata": {},
   "outputs": [],
   "source": []
  }
 ],
 "metadata": {
  "kernelspec": {
   "display_name": ".venv",
   "language": "python",
   "name": "python3"
  },
  "language_info": {
   "codemirror_mode": {
    "name": "ipython",
    "version": 3
   },
   "file_extension": ".py",
   "mimetype": "text/x-python",
   "name": "python",
   "nbconvert_exporter": "python",
   "pygments_lexer": "ipython3",
   "version": "3.10.12"
  }
 },
 "nbformat": 4,
 "nbformat_minor": 2
}
