{
 "cells": [
  {
   "cell_type": "code",
   "execution_count": 6,
   "metadata": {},
   "outputs": [
    {
     "name": "stdout",
     "output_type": "stream",
     "text": [
      "2.16.1\n"
     ]
    }
   ],
   "source": [
    "import tensorflow as tf\n",
    "print(tf.__version__)"
   ]
  },
  {
   "cell_type": "code",
   "execution_count": 11,
   "metadata": {},
   "outputs": [
    {
     "data": {
      "text/plain": [
       "0"
      ]
     },
     "execution_count": 11,
     "metadata": {},
     "output_type": "execute_result"
    }
   ],
   "source": [
    "scalar = tf.constant(10)\n",
    "scalar.ndim"
   ]
  },
  {
   "cell_type": "code",
   "execution_count": 15,
   "metadata": {},
   "outputs": [
    {
     "data": {
      "text/plain": [
       "1"
      ]
     },
     "execution_count": 15,
     "metadata": {},
     "output_type": "execute_result"
    }
   ],
   "source": [
    "vector = tf.constant([22, 7])\n",
    "vector.ndim"
   ]
  },
  {
   "cell_type": "code",
   "execution_count": 17,
   "metadata": {},
   "outputs": [
    {
     "data": {
      "text/plain": [
       "1"
      ]
     },
     "execution_count": 17,
     "metadata": {},
     "output_type": "execute_result"
    }
   ],
   "source": [
    "vector1 = tf.constant([1, 1, 2])\n",
    "vector1.ndim"
   ]
  },
  {
   "cell_type": "code",
   "execution_count": 19,
   "metadata": {},
   "outputs": [
    {
     "data": {
      "text/plain": [
       "<tf.Tensor: shape=(2, 2), dtype=int32, numpy=\n",
       "array([[22,  7],\n",
       "       [ 7, 22]], dtype=int32)>"
      ]
     },
     "execution_count": 19,
     "metadata": {},
     "output_type": "execute_result"
    }
   ],
   "source": [
    "matrix = tf.constant([[22, 7],\n",
    "                      [7, 22]])\n",
    "matrix"
   ]
  },
  {
   "cell_type": "code",
   "execution_count": 21,
   "metadata": {},
   "outputs": [
    {
     "data": {
      "text/plain": [
       "2"
      ]
     },
     "execution_count": 21,
     "metadata": {},
     "output_type": "execute_result"
    }
   ],
   "source": [
    "matrix.ndim"
   ]
  },
  {
   "cell_type": "code",
   "execution_count": 25,
   "metadata": {},
   "outputs": [
    {
     "data": {
      "text/plain": [
       "<tf.Tensor: shape=(3, 3), dtype=float16, numpy=\n",
       "array([[ 1.,  1.,  2.],\n",
       "       [ 3.,  5.,  8.],\n",
       "       [13., 21., 34.]], dtype=float16)>"
      ]
     },
     "execution_count": 25,
     "metadata": {},
     "output_type": "execute_result"
    }
   ],
   "source": [
    "matrix1 = tf.constant([[1., 1., 2.],\n",
    "                       [3., 5., 8.],\n",
    "                       [13., 21., 34.]], dtype=tf.float16)\n",
    "matrix1"
   ]
  },
  {
   "cell_type": "code",
   "execution_count": 28,
   "metadata": {},
   "outputs": [
    {
     "data": {
      "text/plain": [
       "2"
      ]
     },
     "execution_count": 28,
     "metadata": {},
     "output_type": "execute_result"
    }
   ],
   "source": [
    "matrix1.ndim"
   ]
  },
  {
   "cell_type": "code",
   "execution_count": 32,
   "metadata": {},
   "outputs": [
    {
     "data": {
      "text/plain": [
       "<tf.Tensor: shape=(3, 2, 3), dtype=int32, numpy=\n",
       "array([[[ 1,  2,  3],\n",
       "        [ 4,  5,  6]],\n",
       "\n",
       "       [[ 7,  8,  9],\n",
       "        [10, 11, 12]],\n",
       "\n",
       "       [[13, 14, 15],\n",
       "        [16, 17, 18]]], dtype=int32)>"
      ]
     },
     "execution_count": 32,
     "metadata": {},
     "output_type": "execute_result"
    }
   ],
   "source": [
    "matrix2 = tf.constant([[[1, 2, 3],\n",
    "                        [4, 5, 6]],\n",
    "                        [[7, 8, 9],\n",
    "                        [10, 11, 12]],\n",
    "                        [[13, 14, 15],\n",
    "                        [16, 17, 18]]])\n",
    "matrix2how to create 10 dimensional array in tensorflow"
   ]
  },
  {
   "cell_type": "code",
   "execution_count": 34,
   "metadata": {},
   "outputs": [
    {
     "data": {
      "text/plain": [
       "3"
      ]
     },
     "execution_count": 34,
     "metadata": {},
     "output_type": "execute_result"
    }
   ],
   "source": [
    "matrix2.ndim"
   ]
  },
  {
   "cell_type": "code",
   "execution_count": 39,
   "metadata": {},
   "outputs": [
    {
     "data": {
      "text/plain": [
       "<tf.Tensor: shape=(4, 1, 3, 3), dtype=int32, numpy=\n",
       "array([[[[1, 1, 1],\n",
       "         [1, 1, 1],\n",
       "         [1, 1, 1]]],\n",
       "\n",
       "\n",
       "       [[[2, 2, 2],\n",
       "         [2, 2, 2],\n",
       "         [2, 2, 2]]],\n",
       "\n",
       "\n",
       "       [[[3, 3, 3],\n",
       "         [3, 3, 3],\n",
       "         [3, 3, 3]]],\n",
       "\n",
       "\n",
       "       [[[4, 4, 4],\n",
       "         [4, 4, 4],\n",
       "         [4, 4, 4]]]], dtype=int32)>"
      ]
     },
     "execution_count": 39,
     "metadata": {},
     "output_type": "execute_result"
    }
   ],
   "source": [
    "matrix3 = tf.constant([[[[1,1,1],\n",
    "                        [1,1,1],\n",
    "                        [1,1,1]]],\n",
    "                        [[[2,2,2],\n",
    "                         [2,2,2],\n",
    "                         [2,2,2]]],\n",
    "                         [[[3,3,3],\n",
    "                          [3,3,3],\n",
    "                          [3,3,3]]],\n",
    "                          [[[4,4,4],\n",
    "                           [4,4,4],\n",
    "                           [4,4,4]]]])\n",
    "matrix3"
   ]
  },
  {
   "cell_type": "code",
   "execution_count": 40,
   "metadata": {},
   "outputs": [
    {
     "data": {
      "text/plain": [
       "4"
      ]
     },
     "execution_count": 40,
     "metadata": {},
     "output_type": "execute_result"
    }
   ],
   "source": [
    "matrix3.ndim"
   ]
  },
  {
   "cell_type": "code",
   "execution_count": 82,
   "metadata": {},
   "outputs": [
    {
     "data": {
      "text/plain": [
       "<tf.Tensor: shape=(3, 3, 3), dtype=float32, numpy=\n",
       "array([[[0.9168321 , 0.94597244, 0.50883746],\n",
       "        [0.77070785, 0.5255066 , 0.50538373],\n",
       "        [0.8332244 , 0.27500176, 0.51483107]],\n",
       "\n",
       "       [[0.20436502, 0.81574833, 0.04511523],\n",
       "        [0.85190976, 0.00740945, 0.475888  ],\n",
       "        [0.24257445, 0.5591289 , 0.41338456]],\n",
       "\n",
       "       [[0.73941064, 0.87943447, 0.48008025],\n",
       "        [0.35683215, 0.22773504, 0.38509107],\n",
       "        [0.10586011, 0.03064466, 0.3993051 ]]], dtype=float32)>"
      ]
     },
     "execution_count": 82,
     "metadata": {},
     "output_type": "execute_result"
    }
   ],
   "source": [
    "uniform_dist1 = tf.random.uniform(shape=[3, 3, 3], seed=10)\n",
    "uniform_dist1"
   ]
  },
  {
   "cell_type": "code",
   "execution_count": 95,
   "metadata": {},
   "outputs": [
    {
     "data": {
      "text/plain": [
       "(<tf.Tensor: shape=(3, 3, 3), dtype=int32, numpy=\n",
       " array([[[5, 4, 4],\n",
       "         [5, 5, 3],\n",
       "         [5, 3, 2]],\n",
       " \n",
       "        [[5, 2, 4],\n",
       "         [2, 4, 4],\n",
       "         [2, 3, 4]],\n",
       " \n",
       "        [[5, 3, 5],\n",
       "         [3, 6, 3],\n",
       "         [5, 2, 4]]], dtype=int32)>,\n",
       " <tf.Tensor: shape=(3, 3, 3), dtype=int32, numpy=\n",
       " array([[[4, 3, 6],\n",
       "         [2, 5, 2],\n",
       "         [5, 4, 5]],\n",
       " \n",
       "        [[6, 6, 3],\n",
       "         [6, 3, 6],\n",
       "         [3, 2, 3]],\n",
       " \n",
       "        [[4, 6, 4],\n",
       "         [6, 4, 4],\n",
       "         [2, 5, 2]]], dtype=int32)>,\n",
       " <tf.Tensor: shape=(3, 3, 3), dtype=bool, numpy=\n",
       " array([[[False, False, False],\n",
       "         [False,  True, False],\n",
       "         [ True, False, False]],\n",
       " \n",
       "        [[False, False, False],\n",
       "         [False, False, False],\n",
       "         [False, False, False]],\n",
       " \n",
       "        [[False, False, False],\n",
       "         [False, False, False],\n",
       "         [False, False, False]]])>)"
      ]
     },
     "execution_count": 95,
     "metadata": {},
     "output_type": "execute_result"
    }
   ],
   "source": [
    "uniform_dist2 = tf.random.uniform(shape=[3, 3, 3], minval=2, maxval=7, dtype=tf.int32, seed=22)\n",
    "uniform_dist3 = tf.random.uniform(shape=[3, 3, 3], minval=2, maxval=7, dtype=tf.int32, seed=22)\n",
    "uniform_dist2, uniform_dist3, uniform_dist2 == uniform_dist3"
   ]
  }
 ],
 "metadata": {
  "kernelspec": {
   "display_name": "Python 3 (ipykernel)",
   "language": "python",
   "name": "python3"
  },
  "language_info": {
   "codemirror_mode": {
    "name": "ipython",
    "version": 3
   },
   "file_extension": ".py",
   "mimetype": "text/x-python",
   "name": "python",
   "nbconvert_exporter": "python",
   "pygments_lexer": "ipython3",
   "version": "3.10.12"
  }
 },
 "nbformat": 4,
 "nbformat_minor": 2
}
