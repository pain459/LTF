{
 "cells": [
  {
   "cell_type": "code",
   "execution_count": 3,
   "metadata": {},
   "outputs": [
    {
     "name": "stdout",
     "output_type": "stream",
     "text": [
      "2.16.1\n"
     ]
    }
   ],
   "source": [
    "import tensorflow as tf\n",
    "print(tf.__version__)"
   ]
  },
  {
   "cell_type": "code",
   "execution_count": 28,
   "metadata": {},
   "outputs": [
    {
     "data": {
      "text/plain": [
       "<tf.Tensor: shape=(3, 2), dtype=float32, numpy=\n",
       "array([[0.5854399 , 0.28664017],\n",
       "       [0.5822307 , 0.09381223],\n",
       "       [0.30379832, 0.45280004]], dtype=float32)>"
      ]
     },
     "execution_count": 28,
     "metadata": {},
     "output_type": "execute_result"
    }
   ],
   "source": [
    "# Random tensor with uniform distribution\n",
    "random_tensor_uniform = tf.random.uniform(shape=(3, 2))\n",
    "random_tensor_uniform"
   ]
  },
  {
   "cell_type": "code",
   "execution_count": 36,
   "metadata": {},
   "outputs": [
    {
     "data": {
      "text/plain": [
       "<tf.Tensor: shape=(3, 4), dtype=float32, numpy=\n",
       "array([[ 1.0509439 ,  0.20067136, -0.9261601 , -0.28770185],\n",
       "       [ 0.5016288 , -0.5977102 , -2.1065514 ,  1.4014736 ],\n",
       "       [ 0.1877814 , -0.41914663,  1.304298  ,  0.64877164]],\n",
       "      dtype=float32)>"
      ]
     },
     "execution_count": 36,
     "metadata": {},
     "output_type": "execute_result"
    }
   ],
   "source": [
    "# Random tensor with Normal distribution\n",
    "random_tensor_normal = tf.random.normal(shape=(3, 4))\n",
    "random_tensor_normal"
   ]
  },
  {
   "cell_type": "code",
   "execution_count": 68,
   "metadata": {},
   "outputs": [
    {
     "data": {
      "text/plain": [
       "<tf.Tensor: shape=(3, 3), dtype=int32, numpy=\n",
       "array([[9, 9, 8],\n",
       "       [7, 3, 1],\n",
       "       [2, 1, 5]], dtype=int32)>"
      ]
     },
     "execution_count": 68,
     "metadata": {},
     "output_type": "execute_result"
    }
   ],
   "source": [
    "# Random integer tensor\n",
    "random_tensor_int = tf.random.uniform(shape=(3, 3),minval=1, maxval=10, dtype=tf.int32)\n",
    "random_tensor_int"
   ]
  },
  {
   "cell_type": "code",
   "execution_count": 119,
   "metadata": {},
   "outputs": [
    {
     "data": {
      "text/plain": [
       "(<tf.Tensor: shape=(3, 3), dtype=float32, numpy=\n",
       " array([[ 1.0524982 , -0.60981613,  0.12243897],\n",
       "        [-1.1777247 , -1.4654896 , -0.53334624],\n",
       "        [-0.75230265, -0.43710864,  0.9169955 ]], dtype=float32)>,\n",
       " <tf.Tensor: shape=(3, 3), dtype=float32, numpy=\n",
       " array([[ 1.0524982 , -0.60981613,  0.12243897],\n",
       "        [-1.1777247 , -1.4654896 , -0.53334624],\n",
       "        [-0.75230265, -0.43710864,  0.9169955 ]], dtype=float32)>,\n",
       " <tf.Tensor: shape=(3, 3), dtype=bool, numpy=\n",
       " array([[ True,  True,  True],\n",
       "        [ True,  True,  True],\n",
       "        [ True,  True,  True]])>)"
      ]
     },
     "execution_count": 119,
     "metadata": {},
     "output_type": "execute_result"
    }
   ],
   "source": [
    "# Get standard number output with seed\n",
    "random_number_int_seed_1 = tf.random.set_seed(12)\n",
    "random_number_int_seed_1 = tf.random.normal(shape=(3, 3))\n",
    "random_number_int_seed_2 = tf.random.set_seed(12)\n",
    "random_number_int_seed_2 = tf.random.normal(shape=(3, 3))\n",
    "random_number_int_seed_1, random_number_int_seed_2, random_number_int_seed_1 == random_number_int_seed_2"
   ]
  },
  {
   "cell_type": "code",
   "execution_count": 128,
   "metadata": {},
   "outputs": [
    {
     "data": {
      "text/plain": [
       "(<tf.Tensor: shape=(3, 3), dtype=float32, numpy=\n",
       " array([[0.02487183, 0.86122084, 0.2314794 ],\n",
       "        [0.4261533 , 0.07033372, 0.58401775],\n",
       "        [0.7013489 , 0.754992  , 0.3136698 ]], dtype=float32)>,\n",
       " <tf.Tensor: shape=(3, 3), dtype=float32, numpy=\n",
       " array([[-1.1018509 ,  0.23039043,  0.75962853],\n",
       "        [ 0.60776925, -0.2111087 ,  1.9017993 ],\n",
       "        [ 0.13315514, -0.5404107 ,  0.7706618 ]], dtype=float32)>,\n",
       " <tf.Tensor: shape=(3, 3), dtype=int32, numpy=\n",
       " array([[8, 9, 6],\n",
       "        [1, 3, 7],\n",
       "        [7, 5, 1]], dtype=int32)>)"
      ]
     },
     "execution_count": 128,
     "metadata": {},
     "output_type": "execute_result"
    }
   ],
   "source": [
    "# setting seed for all distributions\n",
    "tf.random.set_seed(21)\n",
    "\n",
    "random_tensor_uniform = tf.random.uniform(shape=(3, 3))\n",
    "random_tensor_normal = tf.random.normal(shape=(3, 3))\n",
    "random_tensor_int = tf.random.uniform(shape=(3, 3), minval=1, maxval=10, dtype=tf.int32)\n",
    "random_tensor_uniform, random_tensor_normal, random_tensor_int"
   ]
  }
 ],
 "metadata": {
  "kernelspec": {
   "display_name": ".venv",
   "language": "python",
   "name": "python3"
  },
  "language_info": {
   "codemirror_mode": {
    "name": "ipython",
    "version": 3
   },
   "file_extension": ".py",
   "mimetype": "text/x-python",
   "name": "python",
   "nbconvert_exporter": "python",
   "pygments_lexer": "ipython3",
   "version": "3.10.12"
  }
 },
 "nbformat": 4,
 "nbformat_minor": 2
}
