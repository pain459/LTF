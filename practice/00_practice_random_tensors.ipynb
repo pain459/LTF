{
 "cells": [
  {
   "cell_type": "code",
   "execution_count": 3,
   "metadata": {},
   "outputs": [
    {
     "name": "stderr",
     "output_type": "stream",
     "text": [
      "2024-05-26 17:25:50.541379: I tensorflow/core/util/port.cc:113] oneDNN custom operations are on. You may see slightly different numerical results due to floating-point round-off errors from different computation orders. To turn them off, set the environment variable `TF_ENABLE_ONEDNN_OPTS=0`.\n",
      "2024-05-26 17:25:50.541841: I external/local_tsl/tsl/cuda/cudart_stub.cc:32] Could not find cuda drivers on your machine, GPU will not be used.\n",
      "2024-05-26 17:25:50.544034: I external/local_tsl/tsl/cuda/cudart_stub.cc:32] Could not find cuda drivers on your machine, GPU will not be used.\n",
      "2024-05-26 17:25:50.572244: I tensorflow/core/platform/cpu_feature_guard.cc:210] This TensorFlow binary is optimized to use available CPU instructions in performance-critical operations.\n",
      "To enable the following instructions: AVX2 AVX512F AVX512_VNNI FMA, in other operations, rebuild TensorFlow with the appropriate compiler flags.\n",
      "2024-05-26 17:25:51.117637: W tensorflow/compiler/tf2tensorrt/utils/py_utils.cc:38] TF-TRT Warning: Could not find TensorRT\n"
     ]
    },
    {
     "name": "stdout",
     "output_type": "stream",
     "text": [
      "2.16.1\n"
     ]
    }
   ],
   "source": [
    "import tensorflow as tf\n",
    "print(tf.__version__)"
   ]
  },
  {
   "cell_type": "code",
   "execution_count": 4,
   "metadata": {},
   "outputs": [
    {
     "data": {
      "text/plain": [
       "<tf.Tensor: shape=(3, 2), dtype=float32, numpy=\n",
       "array([[0.8409265 , 0.0396893 ],\n",
       "       [0.8316064 , 0.0440464 ],\n",
       "       [0.14054763, 0.608111  ]], dtype=float32)>"
      ]
     },
     "execution_count": 4,
     "metadata": {},
     "output_type": "execute_result"
    }
   ],
   "source": [
    "# Random tensor with uniform distribution\n",
    "random_tensor_uniform = tf.random.uniform(shape=(3, 2))\n",
    "random_tensor_uniform"
   ]
  },
  {
   "cell_type": "code",
   "execution_count": 5,
   "metadata": {},
   "outputs": [
    {
     "data": {
      "text/plain": [
       "<tf.Tensor: shape=(3, 4), dtype=float32, numpy=\n",
       "array([[-1.0397576 , -0.22494577, -0.8776301 ,  1.2912304 ],\n",
       "       [-1.4529645 ,  2.740515  , -1.518002  ,  0.14380535],\n",
       "       [ 0.22875395,  0.78047276,  0.800165  ,  0.97344625]],\n",
       "      dtype=float32)>"
      ]
     },
     "execution_count": 5,
     "metadata": {},
     "output_type": "execute_result"
    }
   ],
   "source": [
    "# Random tensor with Normal distribution\n",
    "random_tensor_normal = tf.random.normal(shape=(3, 4))\n",
    "random_tensor_normal"
   ]
  },
  {
   "cell_type": "code",
   "execution_count": 6,
   "metadata": {},
   "outputs": [
    {
     "data": {
      "text/plain": [
       "<tf.Tensor: shape=(3, 3), dtype=int32, numpy=\n",
       "array([[8, 2, 5],\n",
       "       [1, 2, 4],\n",
       "       [7, 5, 9]], dtype=int32)>"
      ]
     },
     "execution_count": 6,
     "metadata": {},
     "output_type": "execute_result"
    }
   ],
   "source": [
    "# Random integer tensor\n",
    "random_tensor_int = tf.random.uniform(shape=(3, 3),minval=1, maxval=10, dtype=tf.int32)\n",
    "random_tensor_int"
   ]
  },
  {
   "cell_type": "code",
   "execution_count": 7,
   "metadata": {},
   "outputs": [
    {
     "data": {
      "text/plain": [
       "(<tf.Tensor: shape=(3, 3), dtype=float32, numpy=\n",
       " array([[ 1.0524982 , -0.60981613,  0.12243897],\n",
       "        [-1.1777247 , -1.4654896 , -0.53334624],\n",
       "        [-0.75230265, -0.43710864,  0.9169955 ]], dtype=float32)>,\n",
       " <tf.Tensor: shape=(3, 3), dtype=float32, numpy=\n",
       " array([[ 1.0524982 , -0.60981613,  0.12243897],\n",
       "        [-1.1777247 , -1.4654896 , -0.53334624],\n",
       "        [-0.75230265, -0.43710864,  0.9169955 ]], dtype=float32)>,\n",
       " <tf.Tensor: shape=(3, 3), dtype=bool, numpy=\n",
       " array([[ True,  True,  True],\n",
       "        [ True,  True,  True],\n",
       "        [ True,  True,  True]])>)"
      ]
     },
     "execution_count": 7,
     "metadata": {},
     "output_type": "execute_result"
    }
   ],
   "source": [
    "# Get standard number output with seed\n",
    "random_number_int_seed_1 = tf.random.set_seed(12)\n",
    "random_number_int_seed_1 = tf.random.normal(shape=(3, 3))\n",
    "random_number_int_seed_2 = tf.random.set_seed(12)\n",
    "random_number_int_seed_2 = tf.random.normal(shape=(3, 3))\n",
    "random_number_int_seed_1, random_number_int_seed_2, random_number_int_seed_1 == random_number_int_seed_2"
   ]
  },
  {
   "cell_type": "code",
   "execution_count": 8,
   "metadata": {},
   "outputs": [
    {
     "data": {
      "text/plain": [
       "(<tf.Tensor: shape=(3, 3), dtype=float32, numpy=\n",
       " array([[0.02487183, 0.86122084, 0.2314794 ],\n",
       "        [0.4261533 , 0.07033372, 0.58401775],\n",
       "        [0.7013489 , 0.754992  , 0.3136698 ]], dtype=float32)>,\n",
       " <tf.Tensor: shape=(3, 3), dtype=float32, numpy=\n",
       " array([[-1.1018509 ,  0.23039043,  0.75962853],\n",
       "        [ 0.60776925, -0.2111087 ,  1.9017993 ],\n",
       "        [ 0.13315514, -0.5404107 ,  0.7706618 ]], dtype=float32)>,\n",
       " <tf.Tensor: shape=(3, 3), dtype=int32, numpy=\n",
       " array([[8, 9, 6],\n",
       "        [1, 3, 7],\n",
       "        [7, 5, 1]], dtype=int32)>)"
      ]
     },
     "execution_count": 8,
     "metadata": {},
     "output_type": "execute_result"
    }
   ],
   "source": [
    "# setting seed for all distributions\n",
    "tf.random.set_seed(21)\n",
    "\n",
    "random_tensor_uniform = tf.random.uniform(shape=(3, 3))\n",
    "random_tensor_normal = tf.random.normal(shape=(3, 3))\n",
    "random_tensor_int = tf.random.uniform(shape=(3, 3), minval=1, maxval=10, dtype=tf.int32)\n",
    "random_tensor_uniform, random_tensor_normal, random_tensor_int"
   ]
  },
  {
   "cell_type": "code",
   "execution_count": 13,
   "metadata": {},
   "outputs": [
    {
     "name": "stdout",
     "output_type": "stream",
     "text": [
      "Philox - Uniform Distribution:\n",
      " tf.Tensor(\n",
      "[[0.7493447  0.73561966 0.45230794]\n",
      " [0.49039817 0.1889317  0.52027524]\n",
      " [0.8736881  0.46921718 0.63932586]], shape=(3, 3), dtype=float32)\n",
      "Philox - Normal Distribution:\n",
      " tf.Tensor(\n",
      "[[ 0.35215586  1.0294334   1.127859  ]\n",
      " [-0.8251682  -1.0670931  -0.6990595 ]\n",
      " [-0.6695724  -1.0871812   0.45619673]], shape=(3, 3), dtype=float32)\n",
      "Philox - Integer Tensor:\n",
      " tf.Tensor(\n",
      "[[9 9 9]\n",
      " [7 2 1]\n",
      " [4 5 8]], shape=(3, 3), dtype=int32)\n"
     ]
    }
   ],
   "source": [
    "import tensorflow as tf\n",
    "\n",
    "# Create a random generator with the Philox algorithm\n",
    "philox_generator = tf.random.Generator.from_seed(42, alg='philox')\n",
    "\n",
    "# Create random tensors using the Philox generator\n",
    "random_tensor_uniform_philox = philox_generator.uniform(shape=(3, 3))\n",
    "random_tensor_normal_philox = philox_generator.normal(shape=(3, 3))\n",
    "random_tensor_int_philox = philox_generator.uniform(shape=(3, 3), minval=0, maxval=10, dtype=tf.int32)\n",
    "\n",
    "print(\"Philox - Uniform Distribution:\\n\", random_tensor_uniform_philox)\n",
    "print(\"Philox - Normal Distribution:\\n\", random_tensor_normal_philox)\n",
    "print(\"Philox - Integer Tensor:\\n\", random_tensor_int_philox)\n"
   ]
  },
  {
   "cell_type": "code",
   "execution_count": 16,
   "metadata": {},
   "outputs": [
    {
     "name": "stderr",
     "output_type": "stream",
     "text": [
      "2024-05-26 17:29:21.487029: W tensorflow/core/framework/local_rendezvous.cc:404] Local rendezvous is aborting with status: UNIMPLEMENTED: Non-XLA devices don't support the ThreeFry algorithm.\n"
     ]
    },
    {
     "ename": "UnimplementedError",
     "evalue": "{{function_node __wrapped__RngReadAndSkip_device_/job:localhost/replica:0/task:0/device:CPU:0}} Non-XLA devices don't support the ThreeFry algorithm. [Op:RngReadAndSkip] name: ",
     "output_type": "error",
     "traceback": [
      "\u001b[0;31m---------------------------------------------------------------------------\u001b[0m",
      "\u001b[0;31mUnimplementedError\u001b[0m                        Traceback (most recent call last)",
      "Cell \u001b[0;32mIn[16], line 7\u001b[0m\n\u001b[1;32m      4\u001b[0m threefry_generator \u001b[38;5;241m=\u001b[39m tf\u001b[38;5;241m.\u001b[39mrandom\u001b[38;5;241m.\u001b[39mGenerator\u001b[38;5;241m.\u001b[39mfrom_seed(\u001b[38;5;241m42\u001b[39m, alg\u001b[38;5;241m=\u001b[39m\u001b[38;5;124m'\u001b[39m\u001b[38;5;124mthreefry\u001b[39m\u001b[38;5;124m'\u001b[39m)\n\u001b[1;32m      6\u001b[0m \u001b[38;5;66;03m# Create random tensors using the Threefry generator\u001b[39;00m\n\u001b[0;32m----> 7\u001b[0m random_tensor_uniform_threefry \u001b[38;5;241m=\u001b[39m \u001b[43mthreefry_generator\u001b[49m\u001b[38;5;241;43m.\u001b[39;49m\u001b[43muniform\u001b[49m\u001b[43m(\u001b[49m\u001b[43mshape\u001b[49m\u001b[38;5;241;43m=\u001b[39;49m\u001b[43m(\u001b[49m\u001b[38;5;241;43m3\u001b[39;49m\u001b[43m,\u001b[49m\u001b[43m \u001b[49m\u001b[38;5;241;43m3\u001b[39;49m\u001b[43m)\u001b[49m\u001b[43m)\u001b[49m\n\u001b[1;32m      8\u001b[0m random_tensor_normal_threefry \u001b[38;5;241m=\u001b[39m threefry_generator\u001b[38;5;241m.\u001b[39mnormal(shape\u001b[38;5;241m=\u001b[39m(\u001b[38;5;241m3\u001b[39m, \u001b[38;5;241m3\u001b[39m))\n\u001b[1;32m      9\u001b[0m random_tensor_int_threefry \u001b[38;5;241m=\u001b[39m threefry_generator\u001b[38;5;241m.\u001b[39muniform(shape\u001b[38;5;241m=\u001b[39m(\u001b[38;5;241m3\u001b[39m, \u001b[38;5;241m3\u001b[39m), minval\u001b[38;5;241m=\u001b[39m\u001b[38;5;241m0\u001b[39m, maxval\u001b[38;5;241m=\u001b[39m\u001b[38;5;241m10\u001b[39m, dtype\u001b[38;5;241m=\u001b[39mtf\u001b[38;5;241m.\u001b[39mint32)\n",
      "File \u001b[0;32m~/src_git/LTF/.venv/lib/python3.10/site-packages/tensorflow/python/ops/stateful_random_ops.py:798\u001b[0m, in \u001b[0;36mGenerator.uniform\u001b[0;34m(self, shape, minval, maxval, dtype, name)\u001b[0m\n\u001b[1;32m    789\u001b[0m   \u001b[38;5;28;01mreturn\u001b[39;00m gen_stateless_random_ops_v2\u001b[38;5;241m.\u001b[39mstateless_random_uniform_int_v2(\n\u001b[1;32m    790\u001b[0m       shape\u001b[38;5;241m=\u001b[39mshape,\n\u001b[1;32m    791\u001b[0m       key\u001b[38;5;241m=\u001b[39mkey,\n\u001b[0;32m   (...)\u001b[0m\n\u001b[1;32m    795\u001b[0m       alg\u001b[38;5;241m=\u001b[39m\u001b[38;5;28mself\u001b[39m\u001b[38;5;241m.\u001b[39malgorithm,\n\u001b[1;32m    796\u001b[0m       name\u001b[38;5;241m=\u001b[39mname)\n\u001b[1;32m    797\u001b[0m \u001b[38;5;28;01melse\u001b[39;00m:\n\u001b[0;32m--> 798\u001b[0m   rnd \u001b[38;5;241m=\u001b[39m \u001b[38;5;28;43mself\u001b[39;49m\u001b[38;5;241;43m.\u001b[39;49m\u001b[43m_uniform\u001b[49m\u001b[43m(\u001b[49m\u001b[43mshape\u001b[49m\u001b[38;5;241;43m=\u001b[39;49m\u001b[43mshape\u001b[49m\u001b[43m,\u001b[49m\u001b[43m \u001b[49m\u001b[43mdtype\u001b[49m\u001b[38;5;241;43m=\u001b[39;49m\u001b[43mdtype\u001b[49m\u001b[43m)\u001b[49m\n\u001b[1;32m    799\u001b[0m   \u001b[38;5;28;01mreturn\u001b[39;00m math_ops\u001b[38;5;241m.\u001b[39madd(rnd \u001b[38;5;241m*\u001b[39m (maxval \u001b[38;5;241m-\u001b[39m minval), minval, name\u001b[38;5;241m=\u001b[39mname)\n",
      "File \u001b[0;32m~/src_git/LTF/.venv/lib/python3.10/site-packages/tensorflow/python/ops/stateful_random_ops.py:715\u001b[0m, in \u001b[0;36mGenerator._uniform\u001b[0;34m(self, shape, dtype)\u001b[0m\n\u001b[1;32m    714\u001b[0m \u001b[38;5;28;01mdef\u001b[39;00m \u001b[38;5;21m_uniform\u001b[39m(\u001b[38;5;28mself\u001b[39m, shape, dtype):\n\u001b[0;32m--> 715\u001b[0m   key, counter \u001b[38;5;241m=\u001b[39m \u001b[38;5;28;43mself\u001b[39;49m\u001b[38;5;241;43m.\u001b[39;49m\u001b[43m_prepare_key_counter\u001b[49m\u001b[43m(\u001b[49m\u001b[43mshape\u001b[49m\u001b[43m)\u001b[49m\n\u001b[1;32m    716\u001b[0m   \u001b[38;5;28;01mreturn\u001b[39;00m gen_stateless_random_ops_v2\u001b[38;5;241m.\u001b[39mstateless_random_uniform_v2(\n\u001b[1;32m    717\u001b[0m       shape\u001b[38;5;241m=\u001b[39mshape, key\u001b[38;5;241m=\u001b[39mkey, counter\u001b[38;5;241m=\u001b[39mcounter, dtype\u001b[38;5;241m=\u001b[39mdtype, alg\u001b[38;5;241m=\u001b[39m\u001b[38;5;28mself\u001b[39m\u001b[38;5;241m.\u001b[39malgorithm)\n",
      "File \u001b[0;32m~/src_git/LTF/.venv/lib/python3.10/site-packages/tensorflow/python/ops/stateful_random_ops.py:641\u001b[0m, in \u001b[0;36mGenerator._prepare_key_counter\u001b[0;34m(self, shape)\u001b[0m\n\u001b[1;32m    639\u001b[0m \u001b[38;5;28;01mdef\u001b[39;00m \u001b[38;5;21m_prepare_key_counter\u001b[39m(\u001b[38;5;28mself\u001b[39m, shape):\n\u001b[1;32m    640\u001b[0m   delta \u001b[38;5;241m=\u001b[39m math_ops\u001b[38;5;241m.\u001b[39mreduce_prod(shape)\n\u001b[0;32m--> 641\u001b[0m   counter_key \u001b[38;5;241m=\u001b[39m \u001b[38;5;28;43mself\u001b[39;49m\u001b[38;5;241;43m.\u001b[39;49m\u001b[43mskip\u001b[49m\u001b[43m(\u001b[49m\u001b[43mdelta\u001b[49m\u001b[43m)\u001b[49m\n\u001b[1;32m    642\u001b[0m   counter_size \u001b[38;5;241m=\u001b[39m _get_counter_size(\u001b[38;5;28mself\u001b[39m\u001b[38;5;241m.\u001b[39malgorithm)\n\u001b[1;32m    643\u001b[0m   counter \u001b[38;5;241m=\u001b[39m array_ops\u001b[38;5;241m.\u001b[39mbitcast(counter_key[:counter_size], dtypes\u001b[38;5;241m.\u001b[39muint64)\n",
      "File \u001b[0;32m~/src_git/LTF/.venv/lib/python3.10/site-packages/tensorflow/python/ops/stateful_random_ops.py:623\u001b[0m, in \u001b[0;36mGenerator.skip\u001b[0;34m(self, delta)\u001b[0m\n\u001b[1;32m    615\u001b[0m     \u001b[38;5;28;01mif\u001b[39;00m (distribute_lib\u001b[38;5;241m.\u001b[39min_cross_replica_context() \u001b[38;5;129;01mor\u001b[39;00m\n\u001b[1;32m    616\u001b[0m         \u001b[38;5;124m\"\u001b[39m\u001b[38;5;124mCentralStorage\u001b[39m\u001b[38;5;124m\"\u001b[39m \u001b[38;5;129;01min\u001b[39;00m \u001b[38;5;28mtype\u001b[39m(\u001b[38;5;28mself\u001b[39m\u001b[38;5;241m.\u001b[39m_distribution_strategy)\u001b[38;5;241m.\u001b[39m\u001b[38;5;18m__name__\u001b[39m):\n\u001b[1;32m    617\u001b[0m       \u001b[38;5;66;03m# In cross-replica context we need to use strategy.extended.update.\u001b[39;00m\n\u001b[1;32m    618\u001b[0m       \u001b[38;5;66;03m# In CentralStorageStrategy we also need to use\u001b[39;00m\n\u001b[1;32m    619\u001b[0m       \u001b[38;5;66;03m# strategy.extended.update (even for replica context),\u001b[39;00m\n\u001b[1;32m    620\u001b[0m       \u001b[38;5;66;03m# because variable updates here must be within merge_call.\u001b[39;00m\n\u001b[1;32m    621\u001b[0m       \u001b[38;5;28;01mreturn\u001b[39;00m distribute_lib\u001b[38;5;241m.\u001b[39mget_strategy()\u001b[38;5;241m.\u001b[39mextended\u001b[38;5;241m.\u001b[39mupdate(\n\u001b[1;32m    622\u001b[0m           \u001b[38;5;28mself\u001b[39m\u001b[38;5;241m.\u001b[39mstate, update_fn)\n\u001b[0;32m--> 623\u001b[0m \u001b[38;5;28;01mreturn\u001b[39;00m \u001b[43mupdate_fn\u001b[49m\u001b[43m(\u001b[49m\u001b[38;5;28;43mself\u001b[39;49m\u001b[38;5;241;43m.\u001b[39;49m\u001b[43mstate\u001b[49m\u001b[43m)\u001b[49m\n",
      "File \u001b[0;32m~/src_git/LTF/.venv/lib/python3.10/site-packages/tensorflow/python/ops/stateful_random_ops.py:602\u001b[0m, in \u001b[0;36mGenerator.skip.<locals>.update_fn\u001b[0;34m(v)\u001b[0m\n\u001b[1;32m    601\u001b[0m \u001b[38;5;28;01mdef\u001b[39;00m \u001b[38;5;21mupdate_fn\u001b[39m(v):\n\u001b[0;32m--> 602\u001b[0m   \u001b[38;5;28;01mreturn\u001b[39;00m \u001b[38;5;28;43mself\u001b[39;49m\u001b[38;5;241;43m.\u001b[39;49m\u001b[43m_skip_single_var\u001b[49m\u001b[43m(\u001b[49m\u001b[43mv\u001b[49m\u001b[43m,\u001b[49m\u001b[43m \u001b[49m\u001b[43mdelta\u001b[49m\u001b[43m)\u001b[49m\n",
      "File \u001b[0;32m~/src_git/LTF/.venv/lib/python3.10/site-packages/tensorflow/python/ops/stateful_random_ops.py:583\u001b[0m, in \u001b[0;36mGenerator._skip_single_var\u001b[0;34m(self, var, delta)\u001b[0m\n\u001b[1;32m    581\u001b[0m resource_variable_ops\u001b[38;5;241m.\u001b[39mvariable_accessed(var)\n\u001b[1;32m    582\u001b[0m \u001b[38;5;66;03m# TODO(wangpeng): Cache the cast algorithm instead of casting everytime.\u001b[39;00m\n\u001b[0;32m--> 583\u001b[0m \u001b[38;5;28;01mreturn\u001b[39;00m \u001b[43mgen_stateful_random_ops\u001b[49m\u001b[38;5;241;43m.\u001b[39;49m\u001b[43mrng_read_and_skip\u001b[49m\u001b[43m(\u001b[49m\n\u001b[1;32m    584\u001b[0m \u001b[43m    \u001b[49m\u001b[43mvar\u001b[49m\u001b[38;5;241;43m.\u001b[39;49m\u001b[43mhandle\u001b[49m\u001b[43m,\u001b[49m\n\u001b[1;32m    585\u001b[0m \u001b[43m    \u001b[49m\u001b[43malg\u001b[49m\u001b[38;5;241;43m=\u001b[39;49m\u001b[43mmath_ops\u001b[49m\u001b[38;5;241;43m.\u001b[39;49m\u001b[43mcast\u001b[49m\u001b[43m(\u001b[49m\u001b[38;5;28;43mself\u001b[39;49m\u001b[38;5;241;43m.\u001b[39;49m\u001b[43malgorithm\u001b[49m\u001b[43m,\u001b[49m\u001b[43m \u001b[49m\u001b[43mdtypes\u001b[49m\u001b[38;5;241;43m.\u001b[39;49m\u001b[43mint32\u001b[49m\u001b[43m)\u001b[49m\u001b[43m,\u001b[49m\n\u001b[1;32m    586\u001b[0m \u001b[43m    \u001b[49m\u001b[43mdelta\u001b[49m\u001b[38;5;241;43m=\u001b[39;49m\u001b[43mmath_ops\u001b[49m\u001b[38;5;241;43m.\u001b[39;49m\u001b[43mcast\u001b[49m\u001b[43m(\u001b[49m\u001b[43mdelta\u001b[49m\u001b[43m,\u001b[49m\u001b[43m \u001b[49m\u001b[43mdtypes\u001b[49m\u001b[38;5;241;43m.\u001b[39;49m\u001b[43muint64\u001b[49m\u001b[43m)\u001b[49m\u001b[43m)\u001b[49m\n",
      "File \u001b[0;32m~/src_git/LTF/.venv/lib/python3.10/site-packages/tensorflow/python/ops/gen_stateful_random_ops.py:121\u001b[0m, in \u001b[0;36mrng_read_and_skip\u001b[0;34m(resource, alg, delta, name)\u001b[0m\n\u001b[1;32m    119\u001b[0m   \u001b[38;5;28;01mreturn\u001b[39;00m _result\n\u001b[1;32m    120\u001b[0m \u001b[38;5;28;01mexcept\u001b[39;00m _core\u001b[38;5;241m.\u001b[39m_NotOkStatusException \u001b[38;5;28;01mas\u001b[39;00m e:\n\u001b[0;32m--> 121\u001b[0m   \u001b[43m_ops\u001b[49m\u001b[38;5;241;43m.\u001b[39;49m\u001b[43mraise_from_not_ok_status\u001b[49m\u001b[43m(\u001b[49m\u001b[43me\u001b[49m\u001b[43m,\u001b[49m\u001b[43m \u001b[49m\u001b[43mname\u001b[49m\u001b[43m)\u001b[49m\n\u001b[1;32m    122\u001b[0m \u001b[38;5;28;01mexcept\u001b[39;00m _core\u001b[38;5;241m.\u001b[39m_FallbackException:\n\u001b[1;32m    123\u001b[0m   \u001b[38;5;28;01mpass\u001b[39;00m\n",
      "File \u001b[0;32m~/src_git/LTF/.venv/lib/python3.10/site-packages/tensorflow/python/framework/ops.py:5983\u001b[0m, in \u001b[0;36mraise_from_not_ok_status\u001b[0;34m(e, name)\u001b[0m\n\u001b[1;32m   5981\u001b[0m \u001b[38;5;28;01mdef\u001b[39;00m \u001b[38;5;21mraise_from_not_ok_status\u001b[39m(e, name) \u001b[38;5;241m-\u001b[39m\u001b[38;5;241m>\u001b[39m NoReturn:\n\u001b[1;32m   5982\u001b[0m   e\u001b[38;5;241m.\u001b[39mmessage \u001b[38;5;241m+\u001b[39m\u001b[38;5;241m=\u001b[39m (\u001b[38;5;124m\"\u001b[39m\u001b[38;5;124m name: \u001b[39m\u001b[38;5;124m\"\u001b[39m \u001b[38;5;241m+\u001b[39m \u001b[38;5;28mstr\u001b[39m(name \u001b[38;5;28;01mif\u001b[39;00m name \u001b[38;5;129;01mis\u001b[39;00m \u001b[38;5;129;01mnot\u001b[39;00m \u001b[38;5;28;01mNone\u001b[39;00m \u001b[38;5;28;01melse\u001b[39;00m \u001b[38;5;124m\"\u001b[39m\u001b[38;5;124m\"\u001b[39m))\n\u001b[0;32m-> 5983\u001b[0m   \u001b[38;5;28;01mraise\u001b[39;00m core\u001b[38;5;241m.\u001b[39m_status_to_exception(e) \u001b[38;5;28;01mfrom\u001b[39;00m \u001b[38;5;28;01mNone\u001b[39;00m\n",
      "\u001b[0;31mUnimplementedError\u001b[0m: {{function_node __wrapped__RngReadAndSkip_device_/job:localhost/replica:0/task:0/device:CPU:0}} Non-XLA devices don't support the ThreeFry algorithm. [Op:RngReadAndSkip] name: "
     ]
    }
   ],
   "source": [
    "import tensorflow as tf\n",
    "\n",
    "# Create a random generator with the Threefry algorithm\n",
    "threefry_generator = tf.random.Generator.from_seed(42, alg='threefry')\n",
    "\n",
    "# Create random tensors using the Threefry generator\n",
    "random_tensor_uniform_threefry = threefry_generator.uniform(shape=(3, 3))\n",
    "random_tensor_normal_threefry = threefry_generator.normal(shape=(3, 3))\n",
    "random_tensor_int_threefry = threefry_generator.uniform(shape=(3, 3), minval=0, maxval=10, dtype=tf.int32)\n",
    "\n",
    "print(\"Threefry - Uniform Distribution:\\n\", random_tensor_uniform_threefry)\n",
    "print(\"Threefry - Normal Distribution:\\n\", random_tensor_normal_threefry)\n",
    "print(\"Threefry - Integer Tensor:\\n\", random_tensor_int_threefry)\n"
   ]
  },
  {
   "cell_type": "code",
   "execution_count": 18,
   "metadata": {},
   "outputs": [
    {
     "name": "stdout",
     "output_type": "stream",
     "text": [
      "Philox - Uniform Distribution (CPU):\n",
      " tf.Tensor(\n",
      "[[0.7493447  0.73561966 0.45230794]\n",
      " [0.49039817 0.1889317  0.52027524]\n",
      " [0.8736881  0.46921718 0.63932586]], shape=(3, 3), dtype=float32)\n",
      "Philox - Normal Distribution (CPU):\n",
      " tf.Tensor(\n",
      "[[ 0.35215586  1.0294334   1.127859  ]\n",
      " [-0.8251682  -1.0670931  -0.6990595 ]\n",
      " [-0.6695724  -1.0871812   0.45619673]], shape=(3, 3), dtype=float32)\n",
      "Philox - Integer Tensor (CPU):\n",
      " tf.Tensor(\n",
      "[[9 9 9]\n",
      " [7 2 1]\n",
      " [4 5 8]], shape=(3, 3), dtype=int32)\n"
     ]
    }
   ],
   "source": [
    "# Ensuring CPU usage\n",
    "import tensorflow as tf\n",
    "import os\n",
    "\n",
    "# Set environment variable to use CPU only\n",
    "os.environ[\"CUDA_VISIBLE_DEVICES\"] = \"-1\"\n",
    "\n",
    "# Create a random generator with the Philox algorithm\n",
    "philox_generator = tf.random.Generator.from_seed(42, alg='philox')\n",
    "\n",
    "# Create random tensors using the Philox generator\n",
    "random_tensor_uniform_philox = philox_generator.uniform(shape=(3, 3))\n",
    "random_tensor_normal_philox = philox_generator.normal(shape=(3, 3))\n",
    "random_tensor_int_philox = philox_generator.uniform(shape=(3, 3), minval=0, maxval=10, dtype=tf.int32)\n",
    "\n",
    "print(\"Philox - Uniform Distribution (CPU):\\n\", random_tensor_uniform_philox)\n",
    "print(\"Philox - Normal Distribution (CPU):\\n\", random_tensor_normal_philox)\n",
    "print(\"Philox - Integer Tensor (CPU):\\n\", random_tensor_int_philox)\n"
   ]
  }
 ],
 "metadata": {
  "kernelspec": {
   "display_name": ".venv",
   "language": "python",
   "name": "python3"
  },
  "language_info": {
   "codemirror_mode": {
    "name": "ipython",
    "version": 3
   },
   "file_extension": ".py",
   "mimetype": "text/x-python",
   "name": "python",
   "nbconvert_exporter": "python",
   "pygments_lexer": "ipython3",
   "version": "3.10.12"
  }
 },
 "nbformat": 4,
 "nbformat_minor": 2
}
