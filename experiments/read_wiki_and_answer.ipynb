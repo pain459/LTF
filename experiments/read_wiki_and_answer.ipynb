{
 "cells": [
  {
   "cell_type": "markdown",
   "metadata": {},
   "source": [
    "### Sample script to read the text in wiki and answer the questions."
   ]
  },
  {
   "cell_type": "code",
   "execution_count": 3,
   "metadata": {},
   "outputs": [
    {
     "name": "stderr",
     "output_type": "stream",
     "text": [
      "2024-05-31 08:22:46.561094: I tensorflow/core/util/port.cc:113] oneDNN custom operations are on. You may see slightly different numerical results due to floating-point round-off errors from different computation orders. To turn them off, set the environment variable `TF_ENABLE_ONEDNN_OPTS=0`.\n",
      "2024-05-31 08:22:46.561536: I external/local_tsl/tsl/cuda/cudart_stub.cc:32] Could not find cuda drivers on your machine, GPU will not be used.\n",
      "2024-05-31 08:22:46.563790: I external/local_tsl/tsl/cuda/cudart_stub.cc:32] Could not find cuda drivers on your machine, GPU will not be used.\n",
      "2024-05-31 08:22:46.592894: I tensorflow/core/platform/cpu_feature_guard.cc:210] This TensorFlow binary is optimized to use available CPU instructions in performance-critical operations.\n",
      "To enable the following instructions: AVX2 AVX512F AVX512_VNNI FMA, in other operations, rebuild TensorFlow with the appropriate compiler flags.\n",
      "2024-05-31 08:22:47.135005: W tensorflow/compiler/tf2tensorrt/utils/py_utils.cc:38] TF-TRT Warning: Could not find TensorRT\n",
      "/home/ravik/src_git/LTF/.venv/lib/python3.10/site-packages/tqdm/auto.py:21: TqdmWarning: IProgress not found. Please update jupyter and ipywidgets. See https://ipywidgets.readthedocs.io/en/stable/user_install.html\n",
      "  from .autonotebook import tqdm as notebook_tqdm\n"
     ]
    }
   ],
   "source": [
    "# Library imports\n",
    "import tensorflow as tf\n",
    "import tensorflow_hub as hub\n",
    "from transformers import BertTokenizer, TFBertForQuestionAnswering\n",
    "import numpy as np"
   ]
  },
  {
   "cell_type": "code",
   "execution_count": 4,
   "metadata": {},
   "outputs": [
    {
     "name": "stderr",
     "output_type": "stream",
     "text": [
      "All PyTorch model weights were used when initializing TFBertForQuestionAnswering.\n",
      "\n",
      "All the weights of TFBertForQuestionAnswering were initialized from the PyTorch model.\n",
      "If your task is similar to the task the model of the checkpoint was trained on, you can already use TFBertForQuestionAnswering for predictions without further training.\n"
     ]
    }
   ],
   "source": [
    "# Load pre-trained BERT model and tokenizer from Hugging Face\n",
    "model = TFBertForQuestionAnswering.from_pretrained('bert-large-uncased-whole-word-masking-finetuned-squad')\n",
    "tokenizer = BertTokenizer.from_pretrained('bert-large-uncased-whole-word-masking-finetuned-squad')"
   ]
  },
  {
   "cell_type": "code",
   "execution_count": 5,
   "metadata": {},
   "outputs": [],
   "source": [
    "# Core function for interaction\n",
    "def answer_question(question, context):\n",
    "    inputs = tokenizer(question, context, return_tensors='tf', max_length=512, truncation=True)\n",
    "    outputs = model(inputs)\n",
    "    answer_start_scores = outputs.start_logits\n",
    "    answer_end_scores = outputs.end_logits\n",
    "\n",
    "    answer_start = tf.argmax(answer_start_scores, axis=1).numpy()[0]\n",
    "    answer_end = (tf.argmax(answer_end_scores, axis=1) + 1).numpy()[0]\n",
    "\n",
    "    answer = tokenizer.convert_tokens_to_string(tokenizer.convert_ids_to_tokens(inputs['input_ids'][0][answer_start:answer_end]))\n",
    "    return answer"
   ]
  },
  {
   "cell_type": "code",
   "execution_count": 6,
   "metadata": {},
   "outputs": [],
   "source": [
    "# Example usage\n",
    "context = \"Wikipedia is a free online encyclopedia, created and edited by volunteers around the world and hosted by the Wikimedia Foundation.\"\n",
    "question = \"What is Wikipedia?\""
   ]
  },
  {
   "cell_type": "code",
   "execution_count": 7,
   "metadata": {},
   "outputs": [
    {
     "name": "stdout",
     "output_type": "stream",
     "text": [
      "Answer: a free online encyclopedia\n"
     ]
    }
   ],
   "source": [
    "# Results\n",
    "answer = answer_question(question, context)\n",
    "print(f\"Answer: {answer}\")"
   ]
  },
  {
   "cell_type": "code",
   "execution_count": 8,
   "metadata": {},
   "outputs": [
    {
     "name": "stdout",
     "output_type": "stream",
     "text": [
      "volunteers\n"
     ]
    }
   ],
   "source": [
    "question = \"Who found wikipedia?\"\n",
    "answer = answer_question(question, context)\n",
    "print(answer)"
   ]
  },
  {
   "cell_type": "code",
   "execution_count": 9,
   "metadata": {},
   "outputs": [],
   "source": [
    "# tinkering a bit\n",
    "context = \"\"\"\n",
    "‘The Dumb Man’\n",
    "by Sherwood Anderson\n",
    "There is a story - I cannot tell it - I have no words. The story is almost\n",
    "forgotten but sometimes I remember.\n",
    "The story concerns three men in a house in a street. If I could say the\n",
    "words I would sing the story. I would whisper it into the ears of women,\n",
    "of mothers. I would run through the streets saying it over and over. My\n",
    "tongue would be torn loose--it would rattle against my teeth.\n",
    "The three men are in a room in the house. One is young and dandified.\n",
    "He continually laughs.\n",
    "There is a second man who has a long white beard. He is consumed with\n",
    "doubt but occasionally his doubt leaves him and he sleeps.\n",
    "A third man there is who has wicked eyes and who moves nervously\n",
    "about the room rubbing his hands together. The three men are waiting -\n",
    "waiting.\n",
    "Upstairs in the house there is a woman standing with her back to a wall,\n",
    "in half darkness by a window.\n",
    "That is the foundation of my story and everything I will ever know is\n",
    "distilled in it.\n",
    "I remember that a fourth man came to the house, a white silent man.\n",
    "Everything was as silent as the sea at night. His feet on the stone floor of\n",
    "the room where the three men were made no sound.\n",
    "The man with the wicked eyes became like a boiling liquid - he ran back\n",
    "and forth like a caged animal. The old grey man was infected by his\n",
    "nervousness - he kept pulling at his beard.\n",
    "The fourth man, the white one, went upstairs to the woman.\n",
    "There she was - waiting.\n",
    "How silent the house was - how loudly all the clocks in the neighbourhood\n",
    "ticked. The woman upstairs craved love. That must have been the story.\n",
    "She hungered for love with her whole being. She wanted to create in love.\n",
    "When the white silent man came into her presence she sprang forward.\n",
    "Her lips were parted. There was a smile on her lips.\n",
    "The white one said nothing. In his eyes there was no rebuke, no question.\n",
    "His eyes were as impersonal as stars.\n",
    "Down stairs the wicked one whined and ran back and forth like a little lost\n",
    "hungry dog. The grey one tried to follow him about but presently grew\n",
    "tired and lay down on the floor to sleep. He never awoke again.\n",
    "The dandified fellow lay on the floor too. He laughed and played with his\n",
    "tiny black moustache.\n",
    "I have no words to tell what happened in my story. I cannot tell the story.\n",
    "The white silent one may have been Death.\n",
    "The waiting eager woman may have been Life.\n",
    "Both the old grey bearded man and the wicked one puzzle me. I think and\n",
    "think but cannot understand them. Most of the time however I do not\n",
    "think of them at all. I keep thinking about the dandified man who laughed\n",
    "all through my story.\n",
    "If I could understand him I could understand everything. I could run\n",
    "through the world telling a wonderful story. I would no longer be dumb.\n",
    "Why was I not given words? Why am I dumb?\n",
    "I have a wonderful story to tell, but know no way to tell it.\n",
    "\"\"\""
   ]
  },
  {
   "cell_type": "code",
   "execution_count": 10,
   "metadata": {},
   "outputs": [
    {
     "name": "stderr",
     "output_type": "stream",
     "text": [
      "Be aware, overflowing tokens are not returned for the setting you have chosen, i.e. sequence pairs with the 'longest_first' truncation strategy. So the returned list will always be empty even if some tokens have been removed.\n"
     ]
    },
    {
     "name": "stdout",
     "output_type": "stream",
     "text": [
      "the dumb man\n"
     ]
    }
   ],
   "source": [
    "question = \"Who is dumbman?\"\n",
    "answer = answer_question(question, context)\n",
    "print(answer)"
   ]
  },
  {
   "cell_type": "code",
   "execution_count": null,
   "metadata": {},
   "outputs": [],
   "source": []
  }
 ],
 "metadata": {
  "kernelspec": {
   "display_name": ".venv",
   "language": "python",
   "name": "python3"
  },
  "language_info": {
   "codemirror_mode": {
    "name": "ipython",
    "version": 3
   },
   "file_extension": ".py",
   "mimetype": "text/x-python",
   "name": "python",
   "nbconvert_exporter": "python",
   "pygments_lexer": "ipython3",
   "version": "3.10.12"
  }
 },
 "nbformat": 4,
 "nbformat_minor": 2
}
